{
 "cells": [
  {
   "cell_type": "code",
   "execution_count": 2,
   "id": "afe2e46d",
   "metadata": {},
   "outputs": [
    {
     "name": "stdout",
     "output_type": "stream",
     "text": [
      "Four is greater than two.\n"
     ]
    }
   ],
   "source": [
    "if 4 > 2:\n",
    "    print(\"Four is greater than two.\")"
   ]
  },
  {
   "cell_type": "code",
   "execution_count": 1,
   "id": "44b0d610",
   "metadata": {},
   "outputs": [
    {
     "name": "stdout",
     "output_type": "stream",
     "text": [
      "Hello, INFS3070!\n"
     ]
    }
   ],
   "source": [
    "print(\"Hello, INFS3070!\")"
   ]
  }
 ],
 "metadata": {
  "kernelspec": {
   "display_name": "Python 3",
   "language": "python",
   "name": "python3"
  },
  "language_info": {
   "codemirror_mode": {
    "name": "ipython",
    "version": 3
   },
   "file_extension": ".py",
   "mimetype": "text/x-python",
   "name": "python",
   "nbconvert_exporter": "python",
   "pygments_lexer": "ipython3",
   "version": "3.13.7"
  }
 },
 "nbformat": 4,
 "nbformat_minor": 5
}

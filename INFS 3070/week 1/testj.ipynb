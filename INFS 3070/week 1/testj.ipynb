{
 "cells": [
  {
   "cell_type": "code",
   "execution_count": 2,
   "id": "44b0d610",
   "metadata": {},
   "outputs": [
    {
     "name": "stdout",
     "output_type": "stream",
     "text": [
      "Hello, INFS3070!\n"
     ]
    }
   ],
   "source": [
    "print(\"Hello, INFS3070!\")"
   ]
  },
  {
   "cell_type": "code",
   "execution_count": 1,
   "id": "85b38536",
   "metadata": {},
   "outputs": [
    {
     "name": "stdout",
     "output_type": "stream",
     "text": [
      "The first integer is greater than or equal to the second integer.\n"
     ]
    }
   ],
   "source": [
    "var1 = 7000\n",
    "var2 = 45\n",
    "\n",
    "if var1 >= var2:\n",
    "    print(\"The first integer is greater than or equal to the second integer.\")\n",
    "else:\n",
    "    print(\"The first integer is less than the second integer.\")"
   ]
  }
 ],
 "metadata": {
  "kernelspec": {
   "display_name": "Python 3",
   "language": "python",
   "name": "python3"
  },
  "language_info": {
   "codemirror_mode": {
    "name": "ipython",
    "version": 3
   },
   "file_extension": ".py",
   "mimetype": "text/x-python",
   "name": "python",
   "nbconvert_exporter": "python",
   "pygments_lexer": "ipython3",
   "version": "3.13.7"
  }
 },
 "nbformat": 4,
 "nbformat_minor": 5
}

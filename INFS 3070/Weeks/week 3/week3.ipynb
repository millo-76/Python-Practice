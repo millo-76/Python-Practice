{
 "cells": [
  {
   "cell_type": "markdown",
   "id": "3e9780bf",
   "metadata": {},
   "source": [
    "# **Week 3**"
   ]
  },
  {
   "cell_type": "markdown",
   "id": "0612cdb9",
   "metadata": {},
   "source": [
    "# User Input and Confitionals\n",
    "\n",
    "# Homework Assignment\n",
    "\n",
    "## User input\n",
    "\n",
    "    Allows us to take input from user. Useful for unknown variables.\n",
    "\n",
    "### 'input' method"
   ]
  },
  {
   "cell_type": "code",
   "execution_count": null,
   "id": "5fc2345d",
   "metadata": {},
   "outputs": [
    {
     "name": "stdout",
     "output_type": "stream",
     "text": [
      "Hello bob, you are 35 years old in 2025!\n",
      "Hello bob\n",
      "You are 35 years old.\n"
     ]
    }
   ],
   "source": [
    "userName = input(f\"What is your name?: \")\n",
    "userAge = int(input(f\"What year were you born?: \"))\n",
    "age = 2025 - userAge\n",
    "\n",
    "print(f\"Hello {userName}, you are {age} years old in 2025!\") #with f-string\n",
    "print(\"Hello \" + userName)\n",
    "print(\"You are \" + str(age) + \" years old.\") #without f-string using casting"
   ]
  },
  {
   "cell_type": "code",
   "execution_count": 2,
   "id": "3f87fdda",
   "metadata": {},
   "outputs": [
    {
     "name": "stdout",
     "output_type": "stream",
     "text": [
      "You entered: 5\n"
     ]
    }
   ],
   "source": [
    "var = input(\"Enter a variable: \")\n",
    "print(f\"You entered: {var}\")"
   ]
  },
  {
   "cell_type": "markdown",
   "id": "2cd1ca09",
   "metadata": {},
   "source": [
    "### casting"
   ]
  },
  {
   "cell_type": "code",
   "execution_count": 5,
   "id": "04d6f2f2",
   "metadata": {},
   "outputs": [
    {
     "name": "stdout",
     "output_type": "stream",
     "text": [
      "You entered: 12 and its type is <class 'int'>\n"
     ]
    }
   ],
   "source": [
    "var = int(input(\"Enter a value: \"))  # casting\n",
    "print(f\"You entered: {var} and its type is {type(var)}\")"
   ]
  },
  {
   "cell_type": "markdown",
   "id": "fc9996b8",
   "metadata": {},
   "source": [
    "# Conditionals\n",
    "\n",
    "## IF statements\n",
    "\n",
    "    Tests for a condition using boolean-expressions e.x. if true do this."
   ]
  },
  {
   "cell_type": "code",
   "execution_count": 2,
   "id": "77a8ccc7",
   "metadata": {},
   "outputs": [
    {
     "name": "stdout",
     "output_type": "stream",
     "text": [
      "You are 7 years old.\n"
     ]
    }
   ],
   "source": [
    "userName = input(f\"What is your name?: \")\n",
    "userAge = int(input(f\"What year were you born?: \"))\n",
    "\n",
    "age = 2025 - userAge\n",
    "\n",
    "if age >= 21:   # check if age is 21 or older\n",
    "    print(f\"Welcome to the bar, enjoy your cold drink.\")    # if true\n",
    "\n",
    "print(\"You are \" + str(age) + \" years old.\") #without f-string using casting"
   ]
  },
  {
   "cell_type": "markdown",
   "id": "1892bfcf",
   "metadata": {},
   "source": [
    "## IF-ELSE\n",
    "    Conditional that also runs code if false e.x. if ture do this if false do this other thing"
   ]
  },
  {
   "cell_type": "code",
   "execution_count": 3,
   "id": "c223b9a8",
   "metadata": {},
   "outputs": [
    {
     "name": "stdout",
     "output_type": "stream",
     "text": [
      "Hello mark, you are 35 years old.\n",
      "Welcome to the bar, enjoy your cold drink.\n",
      "Cheers mark!\n"
     ]
    }
   ],
   "source": [
    "userName = input(f\"What is your name?: \")\n",
    "userAge = int(input(f\"What year were you born?: \"))\n",
    "\n",
    "age = 2025 - userAge\n",
    "\n",
    "print(f\"Hello {userName}, you are {age} years old.\") #with f-string\n",
    "\n",
    "if age >= 21:   # check if age is 21 or older\n",
    "    print(f\"Welcome to the bar, enjoy your cold drink.\")    # if true\n",
    "    print(f\"Cheers {userName}!\")\n",
    "else:\n",
    "    print(f\"Sorry {userName}, you are not old enough to enter the bar.\")"
   ]
  },
  {
   "cell_type": "markdown",
   "id": "e3c00c9a",
   "metadata": {},
   "source": [
    "## Ternary Expression\n",
    "\n",
    "    One line conditional."
   ]
  },
  {
   "cell_type": "code",
   "execution_count": 6,
   "id": "a4f5d2fe",
   "metadata": {},
   "outputs": [
    {
     "name": "stdout",
     "output_type": "stream",
     "text": [
      "Hello mike\n",
      "You can enter the bar.\n"
     ]
    }
   ],
   "source": [
    "userName = input(f\"What is your name?: \")\n",
    "userAge = int(input(f\"What year were you born?: \"))\n",
    "\n",
    "age = 2025 - userAge\n",
    "\n",
    "print(f\"Hello {userName}\")\n",
    "\n",
    "canEnter = \"You can enter the bar.\" if age >= 21 else \"You cannot enter the bar.\"   # one line conditional\n",
    "\n",
    "print(canEnter)"
   ]
  },
  {
   "cell_type": "markdown",
   "id": "e0028edc",
   "metadata": {},
   "source": [
    "## Nested IF Statements\n",
    "\n",
    "    A conditional with another nested inside."
   ]
  },
  {
   "cell_type": "code",
   "execution_count": 10,
   "id": "828c3b70",
   "metadata": {},
   "outputs": [
    {
     "name": "stdout",
     "output_type": "stream",
     "text": [
      "Hello mike\n",
      "You are too old to enlist in the military.\n"
     ]
    }
   ],
   "source": [
    "userName = input(f\"What is your name?: \")\n",
    "userAge = int(input(f\"What year were you born?: \"))\n",
    "\n",
    "age = 2025 - userAge\n",
    "\n",
    "print(\"Hello \" + userName)\n",
    "\n",
    "# Nested if example\n",
    "if age >= 18:   # check if age is 18 or older\n",
    "    if age <= 25:   # nested if # check if age is 25 or younger\n",
    "        print(\"You can enlist in the military.\")    # if both true\n",
    "    else:\n",
    "        print(\"You are too old to enlist in the military.\")  # if first true second false\n",
    "else:\n",
    "    print(\"You are ineligible to enlist in the military.\")  # if first false"
   ]
  },
  {
   "cell_type": "markdown",
   "id": "5512b693",
   "metadata": {},
   "source": [
    "## ELIF\n",
    "\n",
    "    Short for else-if. Great for checking many conditions."
   ]
  },
  {
   "cell_type": "code",
   "execution_count": 17,
   "id": "df00240c",
   "metadata": {},
   "outputs": [
    {
     "name": "stdout",
     "output_type": "stream",
     "text": [
      "Hello mike\n",
      "You can drive without any restrictions.\n"
     ]
    }
   ],
   "source": [
    "userName = input(f\"What is your name?: \")\n",
    "userAge = int(input(f\"What year were you born?: \"))\n",
    "\n",
    "age = 2025 - userAge\n",
    "\n",
    "print(\"Hello \" + userName)\n",
    "\n",
    "# ELIF example\n",
    "if age <= 16:   # check if age is 16 or younger\n",
    "    print(\"You are too young to drive.\")    # if the if statement is true\n",
    "elif age >= 16 and age <= 18:   # check if age is between 16 and 18\n",
    "    print(\"You can drive with a learner's permit.\")  # if the first elif is true\n",
    "elif age > 25 and age < 50:   # check if age is between 25 and 50\n",
    "    print(\"You can qualify for insurance discounts.\")  # if the second elif is true\n",
    "else:   # if neither the if nor the elif statements are true\n",
    "    print(\"You can drive without any restrictions.\")  # if the else statement is true"
   ]
  },
  {
   "cell_type": "markdown",
   "id": "1dd12b52",
   "metadata": {},
   "source": [
    "## Match Case Statement"
   ]
  },
  {
   "cell_type": "code",
   "execution_count": 21,
   "id": "a183749d",
   "metadata": {},
   "outputs": [
    {
     "name": "stdout",
     "output_type": "stream",
     "text": [
      "The day you selected is: Friday\n"
     ]
    }
   ],
   "source": [
    "datToView = int(input(\"What day number (0-6) do you want to view?: \")) # gets user input for day of the week\n",
    "\n",
    "day = datToView\n",
    "day_of_week = \"\"\n",
    "\n",
    "if day == 0:\n",
    "    day_of_week = \"Sunday\"\n",
    "elif day == 1:\n",
    "    day_of_week = \"Monday\"\n",
    "elif day == 2:\n",
    "    day_of_week = \"Tuesday\"\n",
    "elif day == 3:\n",
    "    day_of_week = \"Wednesday\"\n",
    "elif day == 4:\n",
    "    day_of_week = \"Thursday\"\n",
    "elif day == 5:\n",
    "    day_of_week = \"Friday\"\n",
    "elif day == 6:\n",
    "    day_of_week = \"Saturday\"\n",
    "else:\n",
    "    day_of_week = \"Invalid day number. Please enter a number between 0 and 6.\"\n",
    "\n",
    "print(f\"The day you selected is: {day_of_week}\")"
   ]
  },
  {
   "cell_type": "markdown",
   "id": "8b1069ec",
   "metadata": {},
   "source": [
    "## ATM Sim"
   ]
  },
  {
   "cell_type": "code",
   "execution_count": 2,
   "id": "502da29f",
   "metadata": {},
   "outputs": [
    {
     "name": "stdout",
     "output_type": "stream",
     "text": [
      "Welcome to the ATM Simulator\n",
      "1. Check balance.\n",
      "2. Withdraw funds.\n",
      "3. Deposit funds.\n",
      "4. Exit.\n",
      "Your current balance is: $1000\n",
      "Welcome to the ATM Simulator\n",
      "1. Check balance.\n",
      "2. Withdraw funds.\n",
      "3. Deposit funds.\n",
      "4. Exit.\n",
      "You withdrew: $300. Your new balance is: $700\n",
      "Welcome to the ATM Simulator\n",
      "1. Check balance.\n",
      "2. Withdraw funds.\n",
      "3. Deposit funds.\n",
      "4. Exit.\n",
      "You deposited: $200. Your new balance is: $900\n",
      "Welcome to the ATM Simulator\n",
      "1. Check balance.\n",
      "2. Withdraw funds.\n",
      "3. Deposit funds.\n",
      "4. Exit.\n",
      "You deposited: $500000000. Your new balance is: $500000900\n",
      "Welcome to the ATM Simulator\n",
      "1. Check balance.\n",
      "2. Withdraw funds.\n",
      "3. Deposit funds.\n",
      "4. Exit.\n",
      "Insufficient funds.\n",
      "Welcome to the ATM Simulator\n",
      "1. Check balance.\n",
      "2. Withdraw funds.\n",
      "3. Deposit funds.\n",
      "4. Exit.\n",
      "Thank you for using the ATM Simulator.\n"
     ]
    }
   ],
   "source": [
    "balance = 1000 # initial balance\n",
    "\n",
    "while True:\n",
    "    print(f\"Welcome to the ATM Simulator\")\n",
    "    print(\"1. Check balance.\")\n",
    "    print(\"2. Withdraw funds.\")\n",
    "    print(\"3. Deposit funds.\")\n",
    "    print(\"4. Exit.\")\n",
    "\n",
    "    choice = int(input(\"Enter your choice (1-4): \"))\n",
    "\n",
    "    if choice == 1:\n",
    "        print(\"Your current balance is: $\" + str(balance))\n",
    "    elif choice == 2:\n",
    "        amount = int(input(\"Enter the amount you want to withdraw: \"))\n",
    "        if amount > balance:\n",
    "            print(\"Insufficient funds.\")\n",
    "        elif amount <= 0:\n",
    "            print(\"Invalid amount. Please enter a positive value.\")\n",
    "        else:\n",
    "            balance -= amount\n",
    "            print(\"You withdrew: $\" + str(amount) + \". Your new balance is: $\" + str(balance))\n",
    "    elif choice == 3:\n",
    "        amount = int(input(\"Enter the amount you want to deposit: \"))\n",
    "        if amount <= 0:\n",
    "            print(\"Invalid amount. Please enter a positive value.\")\n",
    "        else:\n",
    "            balance += amount\n",
    "            print(\"You deposited: $\" + str(amount) + \". Your new balance is: $\" + str(balance))\n",
    "    elif choice == 4:\n",
    "        print(\"Thank you for using the ATM Simulator.\")\n",
    "        break\n",
    "    else:\n",
    "        print(\"Invalid choice. Please select a valid option (1-4).\")"
   ]
  }
 ],
 "metadata": {
  "kernelspec": {
   "display_name": "Python 3",
   "language": "python",
   "name": "python3"
  },
  "language_info": {
   "codemirror_mode": {
    "name": "ipython",
    "version": 3
   },
   "file_extension": ".py",
   "mimetype": "text/x-python",
   "name": "python",
   "nbconvert_exporter": "python",
   "pygments_lexer": "ipython3",
   "version": "3.13.7"
  }
 },
 "nbformat": 4,
 "nbformat_minor": 5
}

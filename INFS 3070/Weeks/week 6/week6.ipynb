{
 "cells": [
  {
   "cell_type": "markdown",
   "id": "269fff59",
   "metadata": {},
   "source": [
    "# **Week 6**"
   ]
  },
  {
   "cell_type": "markdown",
   "id": "3cd1b980",
   "metadata": {},
   "source": [
    "## Strings\n",
    "\n",
    "    sequence of characters (arrays of bytes), immutable \n",
    "    \"\"\"comment\n",
    "        multi line\n",
    "        comment\"\"\""
   ]
  },
  {
   "cell_type": "markdown",
   "id": "a5e6575b",
   "metadata": {},
   "source": [
    "### Basic String Examples"
   ]
  },
  {
   "cell_type": "code",
   "execution_count": 1,
   "id": "9b1b68fb",
   "metadata": {},
   "outputs": [
    {
     "name": "stdout",
     "output_type": "stream",
     "text": [
      "Hello, World!\n"
     ]
    }
   ],
   "source": [
    "# string example\n",
    "\n",
    "myString = \"Hello, World!\"\n",
    "print(myString)"
   ]
  },
  {
   "cell_type": "code",
   "execution_count": null,
   "id": "7cef3737",
   "metadata": {},
   "outputs": [],
   "source": [
    "myString = 'Hello, World!'\n",
    "print(myString[5])  # prints specific index (5th) from string"
   ]
  },
  {
   "cell_type": "code",
   "execution_count": 3,
   "id": "431d37d7",
   "metadata": {},
   "outputs": [
    {
     "name": "stdout",
     "output_type": "stream",
     "text": [
      "World\n"
     ]
    }
   ],
   "source": [
    "myString = 'Hello, World!'\n",
    "print(myString[7:12])  # prints specific index (7th to 11th) from string"
   ]
  },
  {
   "cell_type": "markdown",
   "id": "981171ea",
   "metadata": {},
   "source": [
    "### String immutiablity"
   ]
  },
  {
   "cell_type": "code",
   "execution_count": 6,
   "id": "d68c8837",
   "metadata": {},
   "outputs": [
    {
     "name": "stdout",
     "output_type": "stream",
     "text": [
      "Memory location of string1 before reassignment: 2441811731744\n",
      "Memory location of string2 before reassignment: 2441815225952\n",
      "Memory location of string1 after reassignment: 2441815225952\n",
      "Memory location of string2 after reassignment: 2441815225952\n",
      "Mary\n",
      "Mary\n"
     ]
    }
   ],
   "source": [
    "string1 = \"Bob\"\n",
    "string2 = \"Mary\"\n",
    "\n",
    "memBefStr1 = id(string1)    # create memory location variable\n",
    "memBefStr2 = id(string2)\n",
    "\n",
    "string1 = \"Mary\"            # reassign string1 to a new value\n",
    "\n",
    "memAfStr1 = id(string1)     # create new memory location variable\n",
    "memAfStr2 = id(string2)\n",
    "\n",
    "print(f\"Memory location of string1 before reassignment: {memBefStr1}\")\n",
    "print(f\"Memory location of string2 before reassignment: {memBefStr2}\")\n",
    "print(f\"Memory location of string1 after reassignment: {memAfStr1}\")\n",
    "print(f\"Memory location of string2 after reassignment: {memAfStr2}\")\n",
    "\n",
    "print(string1)\n",
    "print(string2)"
   ]
  },
  {
   "cell_type": "markdown",
   "id": "1486a2bd",
   "metadata": {},
   "source": [
    "### Formatting Strings"
   ]
  },
  {
   "cell_type": "markdown",
   "id": "295dc1ef",
   "metadata": {},
   "source": [
    "#### f string style"
   ]
  },
  {
   "cell_type": "code",
   "execution_count": 7,
   "id": "68ec9fad",
   "metadata": {},
   "outputs": [
    {
     "name": "stdout",
     "output_type": "stream",
     "text": [
      "Hello, Alice. You are 30 years old.\n"
     ]
    }
   ],
   "source": [
    "name = \"Alice\"\n",
    "age = 30\n",
    "\n",
    "greeting = f\"Hello, {name}. You are {age} years old.\"   # formatted string literal (f-string)\n",
    "\n",
    "print(greeting)"
   ]
  },
  {
   "cell_type": "markdown",
   "id": "0706c284",
   "metadata": {},
   "source": [
    "#### Method call"
   ]
  },
  {
   "cell_type": "code",
   "execution_count": 8,
   "id": "5c69f326",
   "metadata": {},
   "outputs": [
    {
     "name": "stdout",
     "output_type": "stream",
     "text": [
      "Hello, Alice. You are 30 years old.\n"
     ]
    }
   ],
   "source": [
    "name = \"Alice\"\n",
    "age = 30\n",
    "\n",
    "greeting = \"Hello, {}. You are {} years old.\".format(name, age)   # method call\n",
    "\n",
    "print(greeting)"
   ]
  },
  {
   "cell_type": "markdown",
   "id": "ebeb660f",
   "metadata": {},
   "source": [
    "### Escape Characters"
   ]
  },
  {
   "cell_type": "code",
   "execution_count": 9,
   "id": "bc6cd883",
   "metadata": {},
   "outputs": [
    {
     "ename": "SyntaxError",
     "evalue": "invalid syntax (2256183074.py, line 1)",
     "output_type": "error",
     "traceback": [
      "  \u001b[36mCell\u001b[39m\u001b[36m \u001b[39m\u001b[32mIn[9]\u001b[39m\u001b[32m, line 1\u001b[39m\n\u001b[31m    \u001b[39m\u001b[31mescapeEx = \"I am a \"goof\" no doubt about it.\"  # incorrect usage of quotes\u001b[39m\n                        ^\n\u001b[31mSyntaxError\u001b[39m\u001b[31m:\u001b[39m invalid syntax\n"
     ]
    }
   ],
   "source": [
    "escapeEx = \"I am a \"goof\" no doubt about it.\"  # incorrect usage of quotes\n",
    "print(escapeEx)"
   ]
  },
  {
   "cell_type": "code",
   "execution_count": 12,
   "id": "ec6262aa",
   "metadata": {},
   "outputs": [
    {
     "name": "stdout",
     "output_type": "stream",
     "text": [
      "I am a 'goof' no doubt about it.\n"
     ]
    }
   ],
   "source": [
    "escapeEx = \"I am a 'goof' no doubt about it.\"  # correct usage of quotes\n",
    "print(escapeEx)"
   ]
  },
  {
   "cell_type": "code",
   "execution_count": 11,
   "id": "5573888b",
   "metadata": {},
   "outputs": [
    {
     "name": "stdout",
     "output_type": "stream",
     "text": [
      "I am a \"goof\" no doubt about it.\n"
     ]
    }
   ],
   "source": [
    "escapeEx = \"I am a \\\"goof\\\" no doubt about it.\"  # using backslash to escape double quotes\n",
    "print(escapeEx)"
   ]
  },
  {
   "cell_type": "markdown",
   "id": "ba134a4e",
   "metadata": {},
   "source": [
    "### Newline vs Carriage return"
   ]
  },
  {
   "cell_type": "code",
   "execution_count": 13,
   "id": "42d21e8f",
   "metadata": {},
   "outputs": [
    {
     "name": "stdout",
     "output_type": "stream",
     "text": [
      "This is line 1. \n",
      "This is line 2.\n"
     ]
    }
   ],
   "source": [
    "escapeEx = \"This is line 1. \\nThis is line 2.\"  # using \\n for newline\n",
    "print(escapeEx)"
   ]
  },
  {
   "cell_type": "code",
   "execution_count": 14,
   "id": "8085d953",
   "metadata": {},
   "outputs": [
    {
     "name": "stdout",
     "output_type": "stream",
     "text": [
      "This is line 2.\n"
     ]
    }
   ],
   "source": [
    "escapeEx = \"This is line 1.\\rThis is line 2.\"  # using \\r for carriage return\n",
    "print(escapeEx)                                # moves cursor to beginning of line, overwriting line 1"
   ]
  },
  {
   "cell_type": "markdown",
   "id": "9a7db519",
   "metadata": {},
   "source": [
    "### Search in string"
   ]
  },
  {
   "cell_type": "code",
   "execution_count": 15,
   "id": "e61bffe4",
   "metadata": {},
   "outputs": [
    {
     "name": "stdout",
     "output_type": "stream",
     "text": [
      "True\n"
     ]
    }
   ],
   "source": [
    "myString = \"Hello, World!\"\n",
    "result = \"World\" in myString  # checks if \"World\" is in myString\n",
    "print(result)                 # prints True"
   ]
  },
  {
   "cell_type": "markdown",
   "id": "4baf3466",
   "metadata": {},
   "source": [
    "## Files\n",
    "\n",
    "    open(filename, mode): r:ead, w:rite, a:ppend\n",
    "    remeber to filename.close() the file"
   ]
  },
  {
   "cell_type": "markdown",
   "id": "3a19f797",
   "metadata": {},
   "source": [
    "### Creating native file"
   ]
  },
  {
   "cell_type": "code",
   "execution_count": 33,
   "id": "8088eb0b",
   "metadata": {},
   "outputs": [],
   "source": [
    "f = open(\"example.txt\", \"w\")  # open file in write mode in parent directory\n",
    "\n",
    "f.write(\"My first line of text.\\n\")  # write to file\n",
    "f.write(\"My second line of text.\")\n",
    "\n",
    "f.close()  # close the file"
   ]
  },
  {
   "cell_type": "markdown",
   "id": "51a7b6e7",
   "metadata": {},
   "source": [
    "### Read a file"
   ]
  },
  {
   "cell_type": "code",
   "execution_count": 34,
   "id": "213ca78b",
   "metadata": {},
   "outputs": [
    {
     "name": "stdout",
     "output_type": "stream",
     "text": [
      "My first line of text.\n",
      "My second line of text.\n"
     ]
    }
   ],
   "source": [
    "f = open(\"example.txt\", \"r\")  # open file in read mode\n",
    "\n",
    "print(f.read())  # read the entire file content"
   ]
  },
  {
   "cell_type": "markdown",
   "id": "1e1fd79c",
   "metadata": {},
   "source": [
    "### Append a file"
   ]
  },
  {
   "cell_type": "code",
   "execution_count": 35,
   "id": "7edfd4f1",
   "metadata": {},
   "outputs": [],
   "source": [
    "f = open(\"example.txt\", \"a\")  # open file in append mode\n",
    "\n",
    "f.write(\"\\nMy third line of text.\") # append to file\n",
    "\n",
    "f.close()  # close the file"
   ]
  },
  {
   "cell_type": "code",
   "execution_count": 36,
   "id": "35f73c8a",
   "metadata": {},
   "outputs": [
    {
     "name": "stdout",
     "output_type": "stream",
     "text": [
      "My first line of text.\n",
      "My second line of text.\n",
      "My third line of text.\n"
     ]
    }
   ],
   "source": [
    "f = open(\"example.txt\", \"r\")\n",
    "\n",
    "print(f.read())\n",
    "\n",
    "f.close()"
   ]
  },
  {
   "cell_type": "markdown",
   "id": "354f5f80",
   "metadata": {},
   "source": [
    "### With Method"
   ]
  },
  {
   "cell_type": "code",
   "execution_count": 37,
   "id": "fff2c216",
   "metadata": {},
   "outputs": [
    {
     "name": "stdout",
     "output_type": "stream",
     "text": [
      "My first line of text.\n",
      "My second line of text.\n",
      "My third line of text.\n",
      "Add another line\n"
     ]
    }
   ],
   "source": [
    "text = \"\\nAdd another line\"\n",
    "\n",
    "with open(\"example.txt\", \"a\") as f: # open file in append mode with context manager\n",
    "    f.write(text)\n",
    "with open(\"example.txt\", \"r\") as f: # open file in read mode with context manager\n",
    "    print(f.read())"
   ]
  },
  {
   "cell_type": "markdown",
   "id": "c31846ed",
   "metadata": {},
   "source": [
    "## Error Handling"
   ]
  },
  {
   "cell_type": "markdown",
   "id": "5205f252",
   "metadata": {},
   "source": [
    "### File handling examples"
   ]
  },
  {
   "cell_type": "code",
   "execution_count": 1,
   "id": "1ad00f72",
   "metadata": {},
   "outputs": [
    {
     "ename": "FileNotFoundError",
     "evalue": "[Errno 2] No such file or directory: 'non_existent_file.txt'",
     "output_type": "error",
     "traceback": [
      "\u001b[31m---------------------------------------------------------------------------\u001b[39m",
      "\u001b[31mFileNotFoundError\u001b[39m                         Traceback (most recent call last)",
      "\u001b[36mCell\u001b[39m\u001b[36m \u001b[39m\u001b[32mIn[1]\u001b[39m\u001b[32m, line 1\u001b[39m\n\u001b[32m----> \u001b[39m\u001b[32m1\u001b[39m \u001b[38;5;28;01mwith\u001b[39;00m \u001b[38;5;28;43mopen\u001b[39;49m\u001b[43m(\u001b[49m\u001b[33;43m\"\u001b[39;49m\u001b[33;43mnon_existent_file.txt\u001b[39;49m\u001b[33;43m\"\u001b[39;49m\u001b[43m,\u001b[49m\u001b[43m \u001b[49m\u001b[33;43m\"\u001b[39;49m\u001b[33;43mr\u001b[39;49m\u001b[33;43m\"\u001b[39;49m\u001b[43m)\u001b[49m \u001b[38;5;28;01mas\u001b[39;00m f:   \u001b[38;5;66;03m# trying to open a non-existent file will cause an error\u001b[39;00m\n\u001b[32m      2\u001b[39m     \u001b[38;5;28mprint\u001b[39m(f.read())\n",
      "\u001b[36mFile \u001b[39m\u001b[32m~\\AppData\\Roaming\\Python\\Python313\\site-packages\\IPython\\core\\interactiveshell.py:343\u001b[39m, in \u001b[36m_modified_open\u001b[39m\u001b[34m(file, *args, **kwargs)\u001b[39m\n\u001b[32m    336\u001b[39m \u001b[38;5;28;01mif\u001b[39;00m file \u001b[38;5;129;01min\u001b[39;00m {\u001b[32m0\u001b[39m, \u001b[32m1\u001b[39m, \u001b[32m2\u001b[39m}:\n\u001b[32m    337\u001b[39m     \u001b[38;5;28;01mraise\u001b[39;00m \u001b[38;5;167;01mValueError\u001b[39;00m(\n\u001b[32m    338\u001b[39m         \u001b[33mf\u001b[39m\u001b[33m\"\u001b[39m\u001b[33mIPython won\u001b[39m\u001b[33m'\u001b[39m\u001b[33mt let you open fd=\u001b[39m\u001b[38;5;132;01m{\u001b[39;00mfile\u001b[38;5;132;01m}\u001b[39;00m\u001b[33m by default \u001b[39m\u001b[33m\"\u001b[39m\n\u001b[32m    339\u001b[39m         \u001b[33m\"\u001b[39m\u001b[33mas it is likely to crash IPython. If you know what you are doing, \u001b[39m\u001b[33m\"\u001b[39m\n\u001b[32m    340\u001b[39m         \u001b[33m\"\u001b[39m\u001b[33myou can use builtins\u001b[39m\u001b[33m'\u001b[39m\u001b[33m open.\u001b[39m\u001b[33m\"\u001b[39m\n\u001b[32m    341\u001b[39m     )\n\u001b[32m--> \u001b[39m\u001b[32m343\u001b[39m \u001b[38;5;28;01mreturn\u001b[39;00m \u001b[43mio_open\u001b[49m\u001b[43m(\u001b[49m\u001b[43mfile\u001b[49m\u001b[43m,\u001b[49m\u001b[43m \u001b[49m\u001b[43m*\u001b[49m\u001b[43margs\u001b[49m\u001b[43m,\u001b[49m\u001b[43m \u001b[49m\u001b[43m*\u001b[49m\u001b[43m*\u001b[49m\u001b[43mkwargs\u001b[49m\u001b[43m)\u001b[49m\n",
      "\u001b[31mFileNotFoundError\u001b[39m: [Errno 2] No such file or directory: 'non_existent_file.txt'"
     ]
    }
   ],
   "source": [
    "with open(\"non_existent_file.txt\", \"r\") as f:   # trying to open a non-existent file will cause an error\n",
    "    print(f.read())"
   ]
  },
  {
   "cell_type": "markdown",
   "id": "53573d7e",
   "metadata": {},
   "source": [
    "### Try block to catch error"
   ]
  },
  {
   "cell_type": "code",
   "execution_count": 6,
   "id": "e31d4761",
   "metadata": {},
   "outputs": [
    {
     "name": "stdout",
     "output_type": "stream",
     "text": [
      "File not found. Check the file name.\n"
     ]
    }
   ],
   "source": [
    "try:\n",
    "    with open(\"non_existent_file.txt\", \"r\") as f:   # trying to open a non-existent file\n",
    "        print(f.read())\n",
    "except FileNotFoundError:   # catch the specific error\n",
    "    print(\"File not found. Check the file name.\")\n",
    "except SyntaxError:  # catch another specific error\n",
    "    print(\"There is a syntax error in your file format.\")"
   ]
  }
 ],
 "metadata": {
  "kernelspec": {
   "display_name": "Python 3",
   "language": "python",
   "name": "python3"
  },
  "language_info": {
   "codemirror_mode": {
    "name": "ipython",
    "version": 3
   },
   "file_extension": ".py",
   "mimetype": "text/x-python",
   "name": "python",
   "nbconvert_exporter": "python",
   "pygments_lexer": "ipython3",
   "version": "3.13.7"
  }
 },
 "nbformat": 4,
 "nbformat_minor": 5
}

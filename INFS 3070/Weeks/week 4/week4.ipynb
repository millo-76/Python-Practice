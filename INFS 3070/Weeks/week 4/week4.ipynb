{
 "cells": [
  {
   "cell_type": "markdown",
   "id": "f66dc59d",
   "metadata": {},
   "source": [
    "# Week 4\n",
    "\n",
    "## Loops\n",
    "\n",
    "    allows for repeted execution until a specific condition is met"
   ]
  },
  {
   "cell_type": "markdown",
   "id": "93a51e31",
   "metadata": {},
   "source": [
    "### While\n",
    "\n",
    "    checks if the condition is true first\n",
    "\n",
    "    while *condition*:\n",
    "        code block"
   ]
  },
  {
   "cell_type": "code",
   "execution_count": 11,
   "id": "48f4afeb",
   "metadata": {},
   "outputs": [
    {
     "name": "stdout",
     "output_type": "stream",
     "text": [
      "1\n",
      "2\n",
      "3\n",
      "4\n",
      "5\n",
      "6\n",
      "7\n",
      "8\n",
      "9\n",
      "10\n"
     ]
    }
   ],
   "source": [
    "x = 1\n",
    "\n",
    "while x < 11:\n",
    "    print(x)\n",
    "    x += 1"
   ]
  },
  {
   "cell_type": "markdown",
   "id": "59652976",
   "metadata": {},
   "source": [
    "    this will cause in infinate loop\n",
    "        it is always true"
   ]
  },
  {
   "cell_type": "code",
   "execution_count": 12,
   "id": "05e3b90b",
   "metadata": {},
   "outputs": [
    {
     "data": {
      "text/plain": [
       "'while True:\\n    print(x)\\n    x += 1'"
      ]
     },
     "execution_count": 12,
     "metadata": {},
     "output_type": "execute_result"
    }
   ],
   "source": [
    "'''while True:\n",
    "    print(x)\n",
    "    x += 1'''"
   ]
  },
  {
   "cell_type": "markdown",
   "id": "274b7acc",
   "metadata": {},
   "source": [
    "#### Break stetament\n",
    "\n",
    "    ends the loop even if the condition is still true"
   ]
  },
  {
   "cell_type": "code",
   "execution_count": null,
   "id": "0d06b4d8",
   "metadata": {},
   "outputs": [
    {
     "name": "stdout",
     "output_type": "stream",
     "text": [
      "1\n",
      "2\n",
      "3\n",
      "4\n",
      "5\n"
     ]
    }
   ],
   "source": [
    "x = 1\n",
    "\n",
    "while x < 11:\n",
    "    print(x)\n",
    "    if x == 5:\n",
    "        break   # ends the loop when x is 5\n",
    "    x += 1"
   ]
  },
  {
   "cell_type": "markdown",
   "id": "884c1268",
   "metadata": {},
   "source": [
    "### Continue statement\n",
    "\n",
    "    skips the rest of the iteration and goes to the next iteration"
   ]
  },
  {
   "cell_type": "code",
   "execution_count": null,
   "id": "89c6cfbf",
   "metadata": {},
   "outputs": [],
   "source": [
    "x = 1\n",
    "\n",
    "while x < 11:\n",
    "    x += 1\n",
    "    if x == 5:\n",
    "        continue    # skips the print when x is 5\n",
    "    print(x)"
   ]
  },
  {
   "cell_type": "markdown",
   "id": "ae278b65",
   "metadata": {},
   "source": [
    "#### For"
   ]
  }
 ],
 "metadata": {
  "kernelspec": {
   "display_name": "Python 3",
   "language": "python",
   "name": "python3"
  },
  "language_info": {
   "codemirror_mode": {
    "name": "ipython",
    "version": 3
   },
   "file_extension": ".py",
   "mimetype": "text/x-python",
   "name": "python",
   "nbconvert_exporter": "python",
   "pygments_lexer": "ipython3",
   "version": "3.13.7"
  }
 },
 "nbformat": 4,
 "nbformat_minor": 5
}

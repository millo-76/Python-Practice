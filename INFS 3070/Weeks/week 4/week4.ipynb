{
 "cells": [
  {
   "cell_type": "markdown",
   "id": "f66dc59d",
   "metadata": {},
   "source": [
    "# Week 4\n",
    "\n",
    "## Loops\n",
    "\n",
    "    allows for repeted execution until a specific condition is met"
   ]
  },
  {
   "cell_type": "markdown",
   "id": "93a51e31",
   "metadata": {},
   "source": [
    "### While\n",
    "\n",
    "    checks if the condition is true first\n",
    "\n",
    "    while condition:    (while 'this' is true)\n",
    "        code block      (do 'this')"
   ]
  },
  {
   "cell_type": "code",
   "execution_count": 11,
   "id": "48f4afeb",
   "metadata": {},
   "outputs": [
    {
     "name": "stdout",
     "output_type": "stream",
     "text": [
      "1\n",
      "2\n",
      "3\n",
      "4\n",
      "5\n",
      "6\n",
      "7\n",
      "8\n",
      "9\n",
      "10\n"
     ]
    }
   ],
   "source": [
    "x = 1\n",
    "\n",
    "while x < 11:\n",
    "    print(x)\n",
    "    x += 1"
   ]
  },
  {
   "cell_type": "markdown",
   "id": "59652976",
   "metadata": {},
   "source": [
    "    this will cause in infinate loop\n",
    "        it is always true"
   ]
  },
  {
   "cell_type": "code",
   "execution_count": 12,
   "id": "05e3b90b",
   "metadata": {},
   "outputs": [
    {
     "data": {
      "text/plain": [
       "'while True:\\n    print(x)\\n    x += 1'"
      ]
     },
     "execution_count": 12,
     "metadata": {},
     "output_type": "execute_result"
    }
   ],
   "source": [
    "'''while True:\n",
    "    print(x)\n",
    "    x += 1'''"
   ]
  },
  {
   "cell_type": "markdown",
   "id": "274b7acc",
   "metadata": {},
   "source": [
    "#### Break stetament\n",
    "\n",
    "    ends the loop even if the condition is still true"
   ]
  },
  {
   "cell_type": "code",
   "execution_count": null,
   "id": "0d06b4d8",
   "metadata": {},
   "outputs": [
    {
     "name": "stdout",
     "output_type": "stream",
     "text": [
      "1\n",
      "2\n",
      "3\n",
      "4\n",
      "5\n"
     ]
    }
   ],
   "source": [
    "x = 1\n",
    "\n",
    "while x < 11:\n",
    "    print(x)\n",
    "    if x == 5:\n",
    "        break   # ends the loop when x is 5\n",
    "    x += 1"
   ]
  },
  {
   "cell_type": "markdown",
   "id": "884c1268",
   "metadata": {},
   "source": [
    "### Continue statement\n",
    "\n",
    "    skips the rest of the iteration and goes to the next iteration"
   ]
  },
  {
   "cell_type": "code",
   "execution_count": null,
   "id": "89c6cfbf",
   "metadata": {},
   "outputs": [],
   "source": [
    "x = 1\n",
    "\n",
    "while x < 11:\n",
    "    x += 1\n",
    "    if x == 5:\n",
    "        continue    # skips the print when x is 5\n",
    "    print(x)"
   ]
  },
  {
   "cell_type": "markdown",
   "id": "ae278b65",
   "metadata": {},
   "source": [
    "### For\n",
    "\n",
    "    used over sequences\n",
    "    loops a specific number of times\n",
    "\n",
    "    for variable in sequence:  (while the variable is in the sequence)\n",
    "        code block              (do this)\n",
    "\n",
    "    common to use i to represent index"
   ]
  },
  {
   "cell_type": "code",
   "execution_count": null,
   "id": "14df15ed",
   "metadata": {},
   "outputs": [
    {
     "name": "stdout",
     "output_type": "stream",
     "text": [
      "1\n",
      "4\n",
      "9\n",
      "16\n",
      "25\n"
     ]
    }
   ],
   "source": [
    "for i in range(1, 6):   # for condition that is true 1 to 5\n",
    "    print(i * i)"
   ]
  },
  {
   "cell_type": "code",
   "execution_count": null,
   "id": "cb021c95",
   "metadata": {},
   "outputs": [
    {
     "name": "stdout",
     "output_type": "stream",
     "text": [
      "1\n",
      "2\n",
      "3\n",
      "4\n",
      "5\n",
      "6\n",
      "7\n",
      "8\n",
      "9\n",
      "10\n",
      "Happy Birthday!\n"
     ]
    }
   ],
   "source": [
    "for i in range(1, 11):      # for condition that is true 1 to 10\n",
    "    print(i)                # prints i until the loop ends\n",
    "print(\"Happy Birthday!\")    # prints a birthday message after the loop ends"
   ]
  },
  {
   "cell_type": "markdown",
   "id": "a8f473a6",
   "metadata": {},
   "source": [
    "#### Reversed method\n",
    "\n",
    "    using the reversed method"
   ]
  },
  {
   "cell_type": "code",
   "execution_count": 16,
   "id": "757e0379",
   "metadata": {},
   "outputs": [
    {
     "name": "stdout",
     "output_type": "stream",
     "text": [
      "10\n",
      "9\n",
      "8\n",
      "7\n",
      "6\n",
      "5\n",
      "4\n",
      "3\n",
      "2\n",
      "1\n",
      "Kahboom!\n"
     ]
    }
   ],
   "source": [
    "for i in reversed(range(1, 11)):      # for condition that is true 10 to 1\n",
    "    print(i)                            # prints i until the loop ends\n",
    "print(\"Kahboom!\")                       # prints a kahboom message after the loop ends"
   ]
  },
  {
   "cell_type": "markdown",
   "id": "d8d691b5",
   "metadata": {},
   "source": [
    "#### Count by specific intervals\n",
    "\n",
    "    \"stepping\""
   ]
  },
  {
   "cell_type": "code",
   "execution_count": 17,
   "id": "70f5a682",
   "metadata": {},
   "outputs": [
    {
     "name": "stdout",
     "output_type": "stream",
     "text": [
      "1\n",
      "3\n",
      "5\n",
      "7\n",
      "9\n",
      "Kahboom!\n"
     ]
    }
   ],
   "source": [
    "for i in range(1, 11, 2):    # for condition that is true 1 to 10, stepping by 2\n",
    "    print(i)                 # prints i until the loop ends\n",
    "print(\"Kahboom!\")            # prints a kahboom message after the loop ends"
   ]
  },
  {
   "cell_type": "markdown",
   "id": "4f264519",
   "metadata": {},
   "source": [
    "#### For loop to iterate over data"
   ]
  },
  {
   "cell_type": "code",
   "execution_count": 18,
   "id": "d304d325",
   "metadata": {},
   "outputs": [
    {
     "name": "stdout",
     "output_type": "stream",
     "text": [
      "1\n",
      "2\n",
      "3\n",
      "4\n",
      "5\n",
      "[1, 2, 3, 4, 5]\n"
     ]
    }
   ],
   "source": [
    "numbers = [1, 2, 3, 4, 5]\n",
    "\n",
    "for number in numbers:\n",
    "    print(number)\n",
    "\n",
    "print(numbers)"
   ]
  },
  {
   "cell_type": "markdown",
   "id": "2ee51f51",
   "metadata": {},
   "source": [
    "#### Loop control examples"
   ]
  },
  {
   "cell_type": "code",
   "execution_count": null,
   "id": "cef5b0b7",
   "metadata": {},
   "outputs": [
    {
     "name": "stdout",
     "output_type": "stream",
     "text": [
      "1\n",
      "2\n",
      "3\n",
      "4\n",
      "Number 5 found, no disassemble number 5\n"
     ]
    }
   ],
   "source": [
    "numbers = [1, 2, 3, 4 , 5, 6, 7, 8, 9, 10]\n",
    "\n",
    "for number in numbers:  # iterating over each number in the list\n",
    "    if number == 5:     # checking if the number is 5\n",
    "        print(\"Number 5 found, no disassemble number 5\")\n",
    "        break           # exits the loop if number is 5\n",
    "    print(number)"
   ]
  },
  {
   "cell_type": "code",
   "execution_count": null,
   "id": "64d5e609",
   "metadata": {},
   "outputs": [
    {
     "name": "stdout",
     "output_type": "stream",
     "text": [
      "1\n",
      "2\n",
      "3\n",
      "4\n",
      "Number 5 found, no disassemble number 5\n",
      "6\n",
      "7\n",
      "8\n",
      "9\n",
      "10\n"
     ]
    }
   ],
   "source": [
    "numbers = [1, 2, 3, 4 , 5, 6, 7, 8, 9, 10]\n",
    "\n",
    "for number in numbers:  # iterating over each number in the list\n",
    "    if number == 5:     # checking if the number is 5\n",
    "        print(\"Number 5 found, no disassemble number 5\")\n",
    "        continue        # skips the rest of the loop iteration if number is 5\n",
    "    print(number)"
   ]
  },
  {
   "cell_type": "markdown",
   "id": "a7bb582a",
   "metadata": {},
   "source": [
    "## Payroll example"
   ]
  },
  {
   "cell_type": "code",
   "execution_count": 26,
   "id": "d502018c",
   "metadata": {},
   "outputs": [
    {
     "name": "stdout",
     "output_type": "stream",
     "text": [
      "You worked 55 hours\n"
     ]
    }
   ],
   "source": [
    "hoursWorked = input(\"Enter hours worked: \")\n",
    "\n",
    "while hoursWorked == \"\":\n",
    "    print(\"You must enter a value\")\n",
    "    hoursWorked = input(\"Enter hours worked: \")\n",
    "else:\n",
    "    print(f\"You worked {hoursWorked} hours\")"
   ]
  },
  {
   "cell_type": "markdown",
   "id": "963ba88b",
   "metadata": {},
   "source": [
    "### Nested Loops\n",
    "\n",
    "    loops within loops\n",
    "        loopception"
   ]
  },
  {
   "cell_type": "code",
   "execution_count": null,
   "id": "e34a74e1",
   "metadata": {},
   "outputs": [
    {
     "name": "stdout",
     "output_type": "stream",
     "text": [
      "1\n",
      "2\n",
      "3\n",
      "4\n",
      "5\n",
      "6\n",
      "7\n",
      "8\n",
      "9\n"
     ]
    }
   ],
   "source": [
    "matrix = [[1,2,3],[4,5,6],[7,8,9]]  # 2D list (list of lists)\n",
    "\n",
    "for row in matrix:                  # iterating over each row in the matrix\n",
    "    for element in row:             # iterating over each element in the row\n",
    "        print(element)"
   ]
  },
  {
   "cell_type": "code",
   "execution_count": 37,
   "id": "a713e415",
   "metadata": {},
   "outputs": [
    {
     "name": "stdout",
     "output_type": "stream",
     "text": [
      "Total: 45\n",
      "Count: 9\n",
      "Average: 5.0\n"
     ]
    }
   ],
   "source": [
    "matrix = [[1,2,3],[4,5,6],[7,8,9]]  # 2D list (list of lists)\n",
    "total = 0\n",
    "count = 0\n",
    "\n",
    "for row in matrix:                  # iterating over each row in the matrix\n",
    "    for element in row:             # iterating over each element in the row\n",
    "        total += element            # adding each element to total\n",
    "        count += 1                  # counting each element\n",
    "print(f\"Total: {total}\")\n",
    "print(f\"Count: {count}\")\n",
    "print(f\"Average: {total / count if count > 0 else 0}\")"
   ]
  },
  {
   "cell_type": "markdown",
   "id": "09c9de69",
   "metadata": {},
   "source": [
    "## In-class example"
   ]
  },
  {
   "cell_type": "code",
   "execution_count": 47,
   "id": "3b41e38b",
   "metadata": {},
   "outputs": [
    {
     "name": "stdout",
     "output_type": "stream",
     "text": [
      "933262154439441526816992388562667004907159682643816214685929638952175999932299156089414639761565182862536979208272237582511852109168640000000000000000000000\n"
     ]
    }
   ],
   "source": [
    "num = int(input('Enter a positive integer: '))\n",
    "\n",
    "factorial = 1               # Initialize factorial to 1\n",
    "\n",
    "for i in range(2, num + 1):  # Start from 2 to num\n",
    "    factorial *= i          # Multiply factorial by i\n",
    "\n",
    "print(factorial)"
   ]
  }
 ],
 "metadata": {
  "kernelspec": {
   "display_name": "Python 3",
   "language": "python",
   "name": "python3"
  },
  "language_info": {
   "codemirror_mode": {
    "name": "ipython",
    "version": 3
   },
   "file_extension": ".py",
   "mimetype": "text/x-python",
   "name": "python",
   "nbconvert_exporter": "python",
   "pygments_lexer": "ipython3",
   "version": "3.13.7"
  }
 },
 "nbformat": 4,
 "nbformat_minor": 5
}

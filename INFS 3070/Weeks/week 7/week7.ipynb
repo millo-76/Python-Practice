{
 "cells": [
  {
   "cell_type": "markdown",
   "id": "859d0ce7",
   "metadata": {},
   "source": [
    "# Week 7"
   ]
  }
 ],
 "metadata": {
  "language_info": {
   "name": "python"
  }
 },
 "nbformat": 4,
 "nbformat_minor": 5
}

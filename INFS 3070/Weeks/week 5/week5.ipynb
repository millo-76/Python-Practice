{
 "cells": [
  {
   "cell_type": "markdown",
   "id": "07264f74",
   "metadata": {},
   "source": [
    "# Week 5\n",
    "\n",
    "## Lists, Tuples, Sets, Dictonaries"
   ]
  },
  {
   "cell_type": "markdown",
   "id": "d74d6cd7",
   "metadata": {},
   "source": [
    "\n",
    "## Lists\n",
    "\n",
    "    lists are unordered and indexed, use [], contain any item.\n",
    "    lists are muteable (changeable)\n",
    "    comes with special methods"
   ]
  },
  {
   "cell_type": "code",
   "execution_count": 8,
   "id": "8ebf14e6",
   "metadata": {},
   "outputs": [
    {
     "name": "stdout",
     "output_type": "stream",
     "text": [
      "['Jeep', 'F350', 'Ram']\n"
     ]
    }
   ],
   "source": [
    "cars = ['Jeep', 'F350', 'Ram']\n",
    "\n",
    "print(cars)"
   ]
  },
  {
   "cell_type": "markdown",
   "id": "87a367d3",
   "metadata": {},
   "source": [
    "##### Access a specific elemnt (index)"
   ]
  },
  {
   "cell_type": "code",
   "execution_count": 9,
   "id": "bab3026a",
   "metadata": {},
   "outputs": [
    {
     "name": "stdout",
     "output_type": "stream",
     "text": [
      "F350\n"
     ]
    }
   ],
   "source": [
    "print(cars[1])  # access a specific elemnt (index)"
   ]
  },
  {
   "cell_type": "code",
   "execution_count": 10,
   "id": "55c7250b",
   "metadata": {},
   "outputs": [
    {
     "name": "stdout",
     "output_type": "stream",
     "text": [
      "['Jeep', 'F350']\n"
     ]
    }
   ],
   "source": [
    "print(cars[0:2])    # prints index 0 and 1, but not 2"
   ]
  },
  {
   "cell_type": "markdown",
   "id": "14cf2584",
   "metadata": {},
   "source": [
    "##### Serach in a list"
   ]
  },
  {
   "cell_type": "code",
   "execution_count": null,
   "id": "2eea1b61",
   "metadata": {},
   "outputs": [
    {
     "name": "stdout",
     "output_type": "stream",
     "text": [
      "I did not find ram in the list ['Jeep', 'F350', 'Ram'].\n"
     ]
    }
   ],
   "source": [
    "lookingFor = 'ram'  # item to search for won't be found because of case sensitivity\n",
    "\n",
    "if lookingFor in cars:\n",
    "    print(f\"Found {lookingFor} in the list {cars}.\")\n",
    "else:\n",
    "    print(f\"I did not find {lookingFor} in the list {cars}.\")"
   ]
  },
  {
   "cell_type": "code",
   "execution_count": null,
   "id": "cb0d63aa",
   "metadata": {},
   "outputs": [
    {
     "name": "stdout",
     "output_type": "stream",
     "text": [
      "Found Ram in the list ['Jeep', 'F350', 'Ram'].\n"
     ]
    }
   ],
   "source": [
    "lookingFor = 'Ram'  # item to search for\n",
    "\n",
    "if lookingFor in cars:\n",
    "    print(f\"Found {lookingFor} in the list {cars}.\")\n",
    "else:\n",
    "    print(f\"I did not find {lookingFor} in the list {cars}.\")"
   ]
  },
  {
   "cell_type": "markdown",
   "id": "b5acfd0c",
   "metadata": {},
   "source": [
    "##### No case sensitivity"
   ]
  },
  {
   "cell_type": "code",
   "execution_count": 13,
   "id": "3f094d01",
   "metadata": {},
   "outputs": [
    {
     "name": "stdout",
     "output_type": "stream",
     "text": [
      "I did not find jeep in the list ['Jeep', 'F350', 'Ram'].\n"
     ]
    }
   ],
   "source": [
    "lookingFor = input(\"Enter the car you are looking for: \")  # item to search for\n",
    "\n",
    "if lookingFor in cars:\n",
    "    print(f\"Found {lookingFor} in the list {cars}.\")\n",
    "else:\n",
    "    print(f\"I did not find {lookingFor} in the list {cars}.\")"
   ]
  },
  {
   "cell_type": "markdown",
   "id": "45d386c8",
   "metadata": {},
   "source": [
    "##### Handeling case sensitivity"
   ]
  },
  {
   "cell_type": "code",
   "execution_count": 18,
   "id": "9a383247",
   "metadata": {},
   "outputs": [
    {
     "name": "stdout",
     "output_type": "stream",
     "text": [
      "I did not find banan in the list ['Jeep', 'F350', 'Ram'].\n"
     ]
    }
   ],
   "source": [
    "lookingFor = input(\"Enter the car you are looking for: \")  # item to search for\n",
    "\n",
    "lowercaseCars = [car.lower() for car in cars]  # create a new list with all lowercase car names\n",
    "lowerCaseLookingFor = lookingFor.lower()  # convert the input to lowercase\n",
    "\n",
    "if lowerCaseLookingFor in lowercaseCars:\n",
    "    indexLocation = lowercaseCars.index(lowerCaseLookingFor)  # find the index of the found item\n",
    "    print(f\"Found {lookingFor} in the list {cars}.\")\n",
    "else:\n",
    "    print(f\"I did not find {lookingFor} in the list {cars}.\")"
   ]
  },
  {
   "cell_type": "markdown",
   "id": "55089edd",
   "metadata": {},
   "source": [
    "##### Multiple Lists by Value"
   ]
  },
  {
   "cell_type": "code",
   "execution_count": 19,
   "id": "62cdfb16",
   "metadata": {},
   "outputs": [
    {
     "name": "stdout",
     "output_type": "stream",
     "text": [
      "s * n = [1, 2, 3, 4, 5, 1, 2, 3, 4, 5, 1, 2, 3, 4, 5]\n",
      "n * s = [1, 2, 3, 4, 5, 1, 2, 3, 4, 5, 1, 2, 3, 4, 5]\n"
     ]
    }
   ],
   "source": [
    "s = [1,2,3,4,5,]\n",
    "n = 3\n",
    "\n",
    "results1 = s*n\n",
    "results2 = n*s\n",
    "\n",
    "print(f\"s * n = {results1}\")\n",
    "print(f\"n * s = {results2}\")"
   ]
  },
  {
   "cell_type": "markdown",
   "id": "87bb1857",
   "metadata": {},
   "source": [
    "##### Add data to Lists"
   ]
  },
  {
   "cell_type": "code",
   "execution_count": 20,
   "id": "09280fb7",
   "metadata": {},
   "outputs": [
    {
     "name": "stdout",
     "output_type": "stream",
     "text": [
      "['Jeep', 'F350', 'Ram', 'Motorcycle']\n"
     ]
    }
   ],
   "source": [
    "cars = ['Jeep', 'F350', 'Ram']\n",
    "\n",
    "cars.append('Motorcycle')  # add to the end of the list\n",
    "\n",
    "print(cars)"
   ]
  },
  {
   "cell_type": "code",
   "execution_count": 21,
   "id": "e6c41611",
   "metadata": {},
   "outputs": [
    {
     "name": "stdout",
     "output_type": "stream",
     "text": [
      "['Jeep', 'Bicycle', 'F350', 'Ram']\n"
     ]
    }
   ],
   "source": [
    "cars = ['Jeep', 'F350', 'Ram']\n",
    "\n",
    "cars.insert(1, 'Bicycle')  # add to the list at index 1\n",
    "\n",
    "print(cars)"
   ]
  },
  {
   "cell_type": "code",
   "execution_count": 22,
   "id": "70fc35d4",
   "metadata": {},
   "outputs": [
    {
     "name": "stdout",
     "output_type": "stream",
     "text": [
      "[1, 2, 3, 4, 5, 6, 7, 8]\n"
     ]
    }
   ],
   "source": [
    "list1 = [1,2,3,4]\n",
    "list2 = [5,6,7,8]\n",
    "\n",
    "list1.extend(list2)  # add all elements of list2 to list1\n",
    "\n",
    "print(list1)"
   ]
  },
  {
   "cell_type": "markdown",
   "id": "2840aef4",
   "metadata": {},
   "source": [
    "##### Sorting and Reversing"
   ]
  },
  {
   "cell_type": "code",
   "execution_count": 23,
   "id": "acd12ba0",
   "metadata": {},
   "outputs": [
    {
     "name": "stdout",
     "output_type": "stream",
     "text": [
      "['Ram', 'F350', 'Jeep']\n"
     ]
    }
   ],
   "source": [
    "cars = ['Jeep', 'F350', 'Ram']\n",
    "\n",
    "cars.reverse()  # reverse the order of the list\n",
    "\n",
    "print(cars)"
   ]
  },
  {
   "cell_type": "code",
   "execution_count": 24,
   "id": "7d1e3076",
   "metadata": {},
   "outputs": [
    {
     "name": "stdout",
     "output_type": "stream",
     "text": [
      "['F350', 'Jeep', 'Ram']\n"
     ]
    }
   ],
   "source": [
    "cars.sort()  # sort the list in ascending order\n",
    "\n",
    "print(cars)"
   ]
  },
  {
   "cell_type": "markdown",
   "id": "f83a401b",
   "metadata": {},
   "source": [
    "##### Different Data Types in Lists"
   ]
  },
  {
   "cell_type": "code",
   "execution_count": 25,
   "id": "540e2e14",
   "metadata": {},
   "outputs": [
    {
     "name": "stdout",
     "output_type": "stream",
     "text": [
      "1\n",
      "4\n"
     ]
    }
   ],
   "source": [
    "cars = ['Jeep', 'F350', 'Ram', [1,2,3,4,5]]\n",
    "s = [1,2,43,4,5]\n",
    "\n",
    "print(min(s))  # prints the minimum value in the list\n",
    "print(len(cars))  # prints the length of the list (how many elements are in it)"
   ]
  },
  {
   "cell_type": "markdown",
   "id": "c284c934",
   "metadata": {},
   "source": [
    "### 2D Lists\n",
    "\n",
    "    lists wintin lists indexed by column then row"
   ]
  },
  {
   "cell_type": "code",
   "execution_count": 27,
   "id": "b9238d84",
   "metadata": {},
   "outputs": [
    {
     "name": "stdout",
     "output_type": "stream",
     "text": [
      "[['Buell', 'GS650', 'K1200RT', 'K1600GT'], ['S10', 'Ram', 'F350'], ['Rubicon', 'CJ5']]\n"
     ]
    }
   ],
   "source": [
    "matrix = [\n",
    "    ['Buell', 'GS650', 'K1200RT', 'K1600GT'],\n",
    "    ['S10', 'Ram', 'F350'],\n",
    "    ['Rubicon', 'CJ5']\n",
    "]\n",
    "\n",
    "print(matrix)"
   ]
  },
  {
   "cell_type": "markdown",
   "id": "f8e30ba8",
   "metadata": {},
   "source": [
    "##### Accessing a specific element"
   ]
  },
  {
   "cell_type": "code",
   "execution_count": 28,
   "id": "2cd77f58",
   "metadata": {},
   "outputs": [
    {
     "name": "stdout",
     "output_type": "stream",
     "text": [
      "K1200RT\n"
     ]
    }
   ],
   "source": [
    "print(matrix[0][2])  # access the 3rd item in the 1st list (K1200RT)"
   ]
  },
  {
   "cell_type": "markdown",
   "id": "35da5e62",
   "metadata": {},
   "source": [
    "##### 3D Lists\n",
    "\n",
    "    lists of lists of lists"
   ]
  },
  {
   "cell_type": "code",
   "execution_count": 32,
   "id": "f4100dfc",
   "metadata": {},
   "outputs": [
    {
     "name": "stdout",
     "output_type": "stream",
     "text": [
      "[[[1, 2, 3], [4, 5, 6]], [[7, 8, 9], [10, 11, 12]]]\n",
      "6\n",
      "[10, 11, 12]\n"
     ]
    }
   ],
   "source": [
    "cube = [\n",
    "    [\n",
    "        [1,2,3,],\n",
    "        [4,5,6,]\n",
    "    ],\n",
    "    [\n",
    "        [7,8,9,],\n",
    "        [10,11,12,]\n",
    "    ]\n",
    "\n",
    "]\n",
    "\n",
    "print(cube)\n",
    "\n",
    "element = cube[0][1][2]  # access the 3rd element of the 2nd list in the 1st list\n",
    "list4 = cube[1][1]  # access the 2nd list in the 2nd list\n",
    "\n",
    "print(element)\n",
    "\n",
    "print(list4)"
   ]
  },
  {
   "cell_type": "markdown",
   "id": "bd09bd35",
   "metadata": {},
   "source": [
    "## Tuples\n",
    "\n",
    "    immutable, ordered, uses (),\n",
    "    use when data doesn't need to change"
   ]
  },
  {
   "cell_type": "code",
   "execution_count": 33,
   "id": "b64b93b3",
   "metadata": {},
   "outputs": [
    {
     "name": "stdout",
     "output_type": "stream",
     "text": [
      "(1, 'Bob', 3.14, True)\n",
      "1\n"
     ]
    }
   ],
   "source": [
    "myTuple = (1, \"Bob\", 3.14, True)\n",
    "\n",
    "print(myTuple)\n",
    "print(myTuple[0])  # access a specific element in the tuple"
   ]
  },
  {
   "cell_type": "code",
   "execution_count": 34,
   "id": "3b78c223",
   "metadata": {},
   "outputs": [
    {
     "name": "stdout",
     "output_type": "stream",
     "text": [
      "(1, 'Bob', 3.14, True)\n"
     ]
    },
    {
     "ename": "TypeError",
     "evalue": "'tuple' object does not support item assignment",
     "output_type": "error",
     "traceback": [
      "\u001b[31m---------------------------------------------------------------------------\u001b[39m",
      "\u001b[31mTypeError\u001b[39m                                 Traceback (most recent call last)",
      "\u001b[36mCell\u001b[39m\u001b[36m \u001b[39m\u001b[32mIn[34]\u001b[39m\u001b[32m, line 6\u001b[39m\n\u001b[32m      3\u001b[39m \u001b[38;5;28mprint\u001b[39m(myTuple)\n\u001b[32m      5\u001b[39m \u001b[38;5;66;03m# try to change an element (will cause an error)\u001b[39;00m\n\u001b[32m----> \u001b[39m\u001b[32m6\u001b[39m \u001b[43mmyTuple\u001b[49m\u001b[43m[\u001b[49m\u001b[32;43m1\u001b[39;49m\u001b[43m]\u001b[49m = \u001b[33m\"\u001b[39m\u001b[33mFred\u001b[39m\u001b[33m\"\u001b[39m\n\u001b[32m      7\u001b[39m \u001b[38;5;28mprint\u001b[39m(myTuple)\n",
      "\u001b[31mTypeError\u001b[39m: 'tuple' object does not support item assignment"
     ]
    }
   ],
   "source": [
    "# immutable example\n",
    "myTuple = (1, \"Bob\", 3.14, True)\n",
    "print(myTuple)\n",
    "\n",
    "# try to change an element (will cause an error)\n",
    "myTuple[1] = \"Fred\"\n",
    "print(myTuple)"
   ]
  },
  {
   "cell_type": "markdown",
   "id": "1679b686",
   "metadata": {},
   "source": [
    "### How to change a Tuple by converting it to a List"
   ]
  },
  {
   "cell_type": "code",
   "execution_count": 35,
   "id": "768e293d",
   "metadata": {},
   "outputs": [
    {
     "name": "stdout",
     "output_type": "stream",
     "text": [
      "(1, 'Fred', 3.14, True)\n"
     ]
    }
   ],
   "source": [
    "myTuple = (1, \"Bob\", 3.14, True)\n",
    "\n",
    "myList = list(myTuple)  # convert the tuple to a list\n",
    "myList[1] = \"Fred\"  # change the 2nd element in the list\n",
    "myTuple = tuple(myList)  # convert the list back to a tuple\n",
    "\n",
    "print(myTuple)"
   ]
  },
  {
   "cell_type": "markdown",
   "id": "85414d6f",
   "metadata": {},
   "source": [
    "## Sets\n",
    "\n",
    "    unordered and must be unique, uses {}, mutable"
   ]
  },
  {
   "cell_type": "code",
   "execution_count": 36,
   "id": "cc385889",
   "metadata": {},
   "outputs": [
    {
     "name": "stdout",
     "output_type": "stream",
     "text": [
      "{1, 2, 3, 4}\n"
     ]
    }
   ],
   "source": [
    "mySet = {1,2,3,4}\n",
    "print(mySet)"
   ]
  },
  {
   "cell_type": "code",
   "execution_count": 37,
   "id": "5b343b68",
   "metadata": {},
   "outputs": [
    {
     "name": "stdout",
     "output_type": "stream",
     "text": [
      "{1, 2, 3, 4, 5}\n"
     ]
    }
   ],
   "source": [
    "mySet.add(5)  # add an element to the set\n",
    "print(mySet)"
   ]
  },
  {
   "cell_type": "markdown",
   "id": "00983a39",
   "metadata": {},
   "source": [
    "### Joining Sets"
   ]
  },
  {
   "cell_type": "code",
   "execution_count": 39,
   "id": "de7c5533",
   "metadata": {},
   "outputs": [
    {
     "name": "stdout",
     "output_type": "stream",
     "text": [
      "{1, 2, 3, 4, 5, 6, 7, 8}\n"
     ]
    }
   ],
   "source": [
    "set1 = {1,2,3,4}\n",
    "set2 = {5,6,7,8}\n",
    "\n",
    "union = set1.union(set2)\n",
    "print(union)"
   ]
  },
  {
   "cell_type": "markdown",
   "id": "da881cc6",
   "metadata": {},
   "source": [
    "##### Unique value example"
   ]
  },
  {
   "cell_type": "code",
   "execution_count": 38,
   "id": "98277fd9",
   "metadata": {},
   "outputs": [
    {
     "name": "stdout",
     "output_type": "stream",
     "text": [
      "{1, 2, 3, 4, 5, 6}\n"
     ]
    }
   ],
   "source": [
    "set1 = {1,2,3}\n",
    "set2 = {1,2,3,4,5,6}\n",
    "\n",
    "union = set1.union(set2)\n",
    "\n",
    "print(union)"
   ]
  },
  {
   "cell_type": "markdown",
   "id": "7069372e",
   "metadata": {},
   "source": [
    "##### Intersection example\n",
    "    only keeps what is in both sets"
   ]
  },
  {
   "cell_type": "code",
   "execution_count": 40,
   "id": "c71761fc",
   "metadata": {},
   "outputs": [
    {
     "name": "stdout",
     "output_type": "stream",
     "text": [
      "{1, 2, 3}\n"
     ]
    }
   ],
   "source": [
    "set1 = {1,2,3}\n",
    "set2 = {1,2,3,4,5,6}\n",
    "\n",
    "union = set1.intersection(set2)\n",
    "\n",
    "print(union)"
   ]
  },
  {
   "cell_type": "markdown",
   "id": "756abfd1",
   "metadata": {},
   "source": [
    "##### Difference\n",
    "\n",
    "    only keeps the values that the first has and the second does not (difference between lists)"
   ]
  },
  {
   "cell_type": "code",
   "execution_count": null,
   "id": "c12ce247",
   "metadata": {},
   "outputs": [
    {
     "name": "stdout",
     "output_type": "stream",
     "text": [
      "{7}\n"
     ]
    }
   ],
   "source": [
    "set1 = {1,2,3,7}\n",
    "set2 = {1,2,3,4,5,6}\n",
    "\n",
    "union = set1.difference(set2)\n",
    "\n",
    "print(union)"
   ]
  },
  {
   "cell_type": "markdown",
   "id": "ab18eb2b",
   "metadata": {},
   "source": [
    "##### Symeteric differences\n",
    "\n",
    "    when in either set but not both"
   ]
  },
  {
   "cell_type": "code",
   "execution_count": 42,
   "id": "4b9477ec",
   "metadata": {},
   "outputs": [
    {
     "name": "stdout",
     "output_type": "stream",
     "text": [
      "{4, 5, 6, 7}\n"
     ]
    }
   ],
   "source": [
    "set1 = {1,2,3,7}\n",
    "set2 = {1,2,3,4,5,6}\n",
    "\n",
    "union = set1.symmetric_difference(set2)\n",
    "\n",
    "print(union)"
   ]
  },
  {
   "cell_type": "markdown",
   "id": "baea49ab",
   "metadata": {},
   "source": [
    "## Dictionaries\n",
    "\n",
    "    stores data in key:value pairs\n",
    "    ordered, mutable, no duplicate keys\n",
    "    uses {} and : {key : value}\n",
    "    fast lookup"
   ]
  },
  {
   "cell_type": "code",
   "execution_count": 44,
   "id": "1a706fbb",
   "metadata": {},
   "outputs": [
    {
     "name": "stdout",
     "output_type": "stream",
     "text": [
      "{'brand': 'Jeep', 'model': 'Rubicon', 'year': '2014'}\n"
     ]
    }
   ],
   "source": [
    "jeep = {\n",
    "    \"brand\" : \"Jeep\",\n",
    "    \"model\" : \"Rubicon\",\n",
    "    \"year\" : \"2014\"\n",
    "}\n",
    "\n",
    "print(jeep)"
   ]
  },
  {
   "cell_type": "code",
   "execution_count": 47,
   "id": "13883fb5",
   "metadata": {},
   "outputs": [
    {
     "name": "stdout",
     "output_type": "stream",
     "text": [
      "Screen Resolution: (1920, 1080)\n",
      "Font size: 16\n"
     ]
    }
   ],
   "source": [
    "config = {\n",
    "    'screen_resolution' : (1920, 1080),\n",
    "    'color_scheme' : 'dark',\n",
    "    'file_paths' : {\n",
    "        'data_file' : '/path/to/data.txt',\n",
    "        'log_file' : '/path/to/log.txt'\n",
    "    }\n",
    "}\n",
    "\n",
    "print(\"Screen Resolution:\", config['screen_resolution'])\n",
    "\n",
    "config['color_scheme'] = 'light'  # change the color scheme\n",
    "\n",
    "config['font_size'] = 16  # add a new key:value pair\n",
    "\n",
    "print(\"Font size:\", config['font_size'])"
   ]
  },
  {
   "cell_type": "markdown",
   "id": "66819310",
   "metadata": {},
   "source": [
    "##### Search for values in Dictionary"
   ]
  },
  {
   "cell_type": "code",
   "execution_count": 48,
   "id": "334c558a",
   "metadata": {},
   "outputs": [
    {
     "name": "stdout",
     "output_type": "stream",
     "text": [
      "screen_resolution\n",
      "color_scheme\n",
      "file_paths\n",
      "font_size\n",
      "(1920, 1080)\n",
      "light\n",
      "{'data_file': '/path/to/data.txt', 'log_file': '/path/to/log.txt'}\n",
      "16\n",
      "screen_resolution : (1920, 1080)\n",
      "color_scheme : light\n",
      "file_paths : {'data_file': '/path/to/data.txt', 'log_file': '/path/to/log.txt'}\n",
      "font_size : 16\n"
     ]
    }
   ],
   "source": [
    "for key in config:\n",
    "    print(key)\n",
    "\n",
    "for value in config.values():\n",
    "    print(value)\n",
    "\n",
    "for key, value in config.items():\n",
    "    print(f\"{key} : {value}\")"
   ]
  },
  {
   "cell_type": "markdown",
   "id": "4f2da1b2",
   "metadata": {},
   "source": [
    "##### Search for elements in Dictionary"
   ]
  },
  {
   "cell_type": "code",
   "execution_count": 53,
   "id": "d7b5fd61",
   "metadata": {},
   "outputs": [
    {
     "name": "stdout",
     "output_type": "stream",
     "text": [
      "Found it\n",
      "Found it\n",
      "Found it\n",
      "Found it\n",
      "Did not find it\n",
      "Found it\n",
      "Found it\n",
      "Found it\n",
      "Found it\n",
      "Did not find it\n"
     ]
    }
   ],
   "source": [
    "for light in config.values():\n",
    "    print(\"Found it\")\n",
    "else:\n",
    "    print(\"Did not find it\")\n",
    "\n",
    "for color_scheme in config.items():\n",
    "    print(\"Found it\")\n",
    "else:\n",
    "    print(\"Did not find it\")"
   ]
  },
  {
   "cell_type": "markdown",
   "id": "f235d944",
   "metadata": {},
   "source": [
    "##### Zipping Dictionaries"
   ]
  },
  {
   "cell_type": "code",
   "execution_count": 52,
   "id": "8ad7e5fd",
   "metadata": {},
   "outputs": [
    {
     "name": "stdout",
     "output_type": "stream",
     "text": [
      "{'name': 'John Doe', 'age': 30, 'city': 'New York'}\n"
     ]
    }
   ],
   "source": [
    "keys = ['name', 'age', 'city']\n",
    "values = ['John Doe', 30, 'New York']\n",
    "\n",
    "person = dict(zip(keys, values))\n",
    "\n",
    "print(person)"
   ]
  },
  {
   "cell_type": "code",
   "execution_count": 54,
   "id": "7adbd8ff",
   "metadata": {},
   "outputs": [
    {
     "name": "stdout",
     "output_type": "stream",
     "text": [
      "Alice is 25 years old.\n",
      "Bob is 30 years old.\n",
      "Charlie is 35 years old.\n"
     ]
    }
   ],
   "source": [
    "names = ['Alice', 'Bob', 'Charlie']\n",
    "ages = [25, 30, 35]\n",
    "\n",
    "# use zip to pair each name with their corresponding age\n",
    "\n",
    "for name, age in zip(names, ages):\n",
    "    print(f\"{name} is {age} years old.\")"
   ]
  },
  {
   "cell_type": "markdown",
   "id": "d4153846",
   "metadata": {},
   "source": [
    "##### List Comprehension\n",
    "\n",
    "    can i shorten my code"
   ]
  },
  {
   "cell_type": "code",
   "execution_count": 55,
   "id": "ec30e45f",
   "metadata": {},
   "outputs": [
    {
     "name": "stdout",
     "output_type": "stream",
     "text": [
      "Jeep\n",
      "F350\n",
      "Ram\n"
     ]
    }
   ],
   "source": [
    "cars = ['Jeep', 'F350', 'Ram']\n",
    "\n",
    "for vehicle in cars:\n",
    "    print(vehicle)\n",
    "\n"
   ]
  },
  {
   "cell_type": "code",
   "execution_count": 57,
   "id": "3cf3f0b7",
   "metadata": {},
   "outputs": [
    {
     "name": "stdout",
     "output_type": "stream",
     "text": [
      "['Jeep', 'F350', 'Ram']\n",
      "Jeep\n",
      "F350\n",
      "Ram\n"
     ]
    },
    {
     "data": {
      "text/plain": [
       "[None, None, None]"
      ]
     },
     "execution_count": 57,
     "metadata": {},
     "output_type": "execute_result"
    }
   ],
   "source": [
    "cars = ['Jeep', 'F350', 'Ram']\n",
    "\n",
    "print([vehicle for vehicle in cars])\n",
    "[print(vehicle) for vehicle in cars]"
   ]
  },
  {
   "cell_type": "code",
   "execution_count": 59,
   "id": "9b4cf628",
   "metadata": {},
   "outputs": [
    {
     "name": "stdout",
     "output_type": "stream",
     "text": [
      "[25, 120, 34, 45, 60]\n"
     ]
    }
   ],
   "source": [
    "customer_ages = [25, -5, 120, 34, 200, 45, 60, -10]\n",
    "\n",
    "valid_ages = [age for age in customer_ages if 0 <= age <= 120]\n",
    "\n",
    "print(valid_ages)"
   ]
  }
 ],
 "metadata": {
  "kernelspec": {
   "display_name": "Python 3",
   "language": "python",
   "name": "python3"
  },
  "language_info": {
   "codemirror_mode": {
    "name": "ipython",
    "version": 3
   },
   "file_extension": ".py",
   "mimetype": "text/x-python",
   "name": "python",
   "nbconvert_exporter": "python",
   "pygments_lexer": "ipython3",
   "version": "3.13.7"
  }
 },
 "nbformat": 4,
 "nbformat_minor": 5
}

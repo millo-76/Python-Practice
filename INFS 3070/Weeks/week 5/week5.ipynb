{
 "cells": [
  {
   "cell_type": "markdown",
   "id": "07264f74",
   "metadata": {},
   "source": [
    "# Week 5"
   ]
  }
 ],
 "metadata": {
  "language_info": {
   "name": "python"
  }
 },
 "nbformat": 4,
 "nbformat_minor": 5
}

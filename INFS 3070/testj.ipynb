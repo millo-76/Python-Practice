{
 "cells": [
  {
   "cell_type": "code",
   "execution_count": 2,
   "id": "44b0d610",
   "metadata": {},
   "outputs": [
    {
     "name": "stdout",
     "output_type": "stream",
     "text": [
      "Hello, INFS3070!\n"
     ]
    }
   ],
   "source": [
    "print(\"Hello, INFS3070!\")"
   ]
  },
  {
   "cell_type": "code",
   "execution_count": null,
   "id": "85b38536",
   "metadata": {},
   "outputs": [
    {
     "ename": "",
     "evalue": "",
     "output_type": "error",
     "traceback": [
      "\u001b[1;31mThe kernel failed to start as a dll could not be loaded.\n",
      "\u001b[1;31mClick <a href='https://aka.ms/kernelFailuresDllLoad'>here</a> for more info."
     ]
    }
   ],
   "source": [
    "var1 = int(input(\"Enter first integer: \"))\n",
    "var2 = int(input(\"Enter second integer: \"))\n",
    "\n",
    "if var1 >= var2:\n",
    "    print(\"The first integer is greater than or equal to the second integer.\")\n",
    "else:\n",
    "    print(\"The first integer is less than the second integer.\")"
   ]
  }
 ],
 "metadata": {
  "kernelspec": {
   "display_name": "Python 3",
   "language": "python",
   "name": "python3"
  },
  "language_info": {
   "codemirror_mode": {
    "name": "ipython",
    "version": 3
   },
   "file_extension": ".py",
   "mimetype": "text/x-python",
   "name": "python",
   "nbconvert_exporter": "python",
   "pygments_lexer": "ipython3",
   "version": "3.13.7"
  }
 },
 "nbformat": 4,
 "nbformat_minor": 5
}

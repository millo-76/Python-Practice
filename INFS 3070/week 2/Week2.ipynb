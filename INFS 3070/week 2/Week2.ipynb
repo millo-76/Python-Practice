{
 "cells": [
  {
   "cell_type": "markdown",
   "id": "6dd1d57b",
   "metadata": {},
   "source": [
    "# Heading\n",
    "\n",
    "## Heading 2\n",
    "\n",
    "### 3\n",
    "\n",
    "#### 4\n",
    "\n",
    "text **bold** *italics*\n",
    "\n",
    "# **bold heading**"
   ]
  },
  {
   "cell_type": "code",
   "execution_count": null,
   "id": "cae7a145",
   "metadata": {},
   "outputs": [],
   "source": [
    "print('this is an example')"
   ]
  }
 ],
 "metadata": {
  "kernelspec": {
   "display_name": "Python 3",
   "language": "python",
   "name": "python3"
  },
  "language_info": {
   "name": "python",
   "version": "3.13.7"
  }
 },
 "nbformat": 4,
 "nbformat_minor": 5
}

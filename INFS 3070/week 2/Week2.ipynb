{
 "cells": [
  {
   "cell_type": "markdown",
   "id": "6dd1d57b",
   "metadata": {},
   "source": [
    "# Heading\n",
    "\n",
    "## Heading 2\n",
    "\n",
    "### 3\n",
    "\n",
    "#### 4\n",
    "\n",
    "text **bold** *italics*\n",
    "\n",
    "# **bold heading**\n",
    "\n",
    "## This is where the code examples start"
   ]
  },
  {
   "cell_type": "code",
   "execution_count": null,
   "id": "cae7a145",
   "metadata": {},
   "outputs": [],
   "source": [
    "print('this is an example')"
   ]
  },
  {
   "cell_type": "markdown",
   "id": "7fe0a210",
   "metadata": {},
   "source": [
    "# Variable examples"
   ]
  },
  {
   "cell_type": "code",
   "execution_count": null,
   "id": "460bda54",
   "metadata": {},
   "outputs": [],
   "source": [
    "a = 2   #this is var a\n",
    "b = 3   #this is var b\n",
    "print(a+b)  #display sum of a & b doing math in the print method\n",
    "c = a + b   #this is var c using vars a & b\n",
    "print(c)    #display var c"
   ]
  },
  {
   "cell_type": "markdown",
   "id": "fcf5fa15",
   "metadata": {},
   "source": [
    "# Assignment Operators"
   ]
  },
  {
   "cell_type": "code",
   "execution_count": null,
   "id": "4f1b8c82",
   "metadata": {},
   "outputs": [],
   "source": [
    "name = 'Bob'    #Assign Bob to name\n",
    "last_name = 'Smith'    #Assign Smith to last_name\n",
    "full_name = name + ' ' + last_name #Concatenate name and last_name\n",
    "print(full_name)    #Display full name"
   ]
  },
  {
   "cell_type": "code",
   "execution_count": null,
   "id": "1201a5d6",
   "metadata": {},
   "outputs": [],
   "source": [
    "x = 5    #Assign 5 to x\n",
    "x += 3   #Add 3 to x\n",
    "print(x) #Display x"
   ]
  },
  {
   "cell_type": "code",
   "execution_count": null,
   "id": "732cf867",
   "metadata": {},
   "outputs": [],
   "source": [
    "x = 5   #Assign 5 to x\n",
    "x -= 3  #Subtract 3 from x\n",
    "print(x) #Display x"
   ]
  },
  {
   "cell_type": "code",
   "execution_count": null,
   "id": "c7ebe58a",
   "metadata": {},
   "outputs": [],
   "source": [
    "x = 5   #Assign 5 to x\n",
    "x *= 3  #Multiply x by 3\n",
    "print(x) #Display x"
   ]
  },
  {
   "cell_type": "code",
   "execution_count": null,
   "id": "16a4dc2d",
   "metadata": {},
   "outputs": [],
   "source": [
    "x /= 3  #Divide x by 3\n",
    "print(x) #Display x"
   ]
  },
  {
   "cell_type": "code",
   "execution_count": null,
   "id": "d99582ca",
   "metadata": {},
   "outputs": [],
   "source": [
    "x = 10   #Assign 10 to x\n",
    "x %= 3   #Assign the remainder of x divided by 3 to x\n",
    "print(x) #Display x"
   ]
  },
  {
   "cell_type": "code",
   "execution_count": null,
   "id": "18d39602",
   "metadata": {},
   "outputs": [],
   "source": [
    "x = 10   #Assign 10 to x\n",
    "x //= 3  #Floor divide x by 3\n",
    "print(x) #Display x"
   ]
  },
  {
   "cell_type": "code",
   "execution_count": null,
   "id": "e7cbb86d",
   "metadata": {},
   "outputs": [],
   "source": [
    "x = 10   #Assign 10 to x\n",
    "x **= 3  #Raise x to the power of 3\n",
    "print(x) #Display x"
   ]
  },
  {
   "cell_type": "code",
   "execution_count": null,
   "id": "42fbf320",
   "metadata": {},
   "outputs": [],
   "source": [
    "x = 16   #Assign 16 to x\n",
    "y = 3    #Assign 3 to y\n",
    "print(x//y)  #Display the floor division of x by y"
   ]
  },
  {
   "cell_type": "markdown",
   "id": "cf4042ef",
   "metadata": {},
   "source": [
    "# Comparison Operators"
   ]
  },
  {
   "cell_type": "code",
   "execution_count": null,
   "id": "a5888ba5",
   "metadata": {},
   "outputs": [],
   "source": [
    "x = 10   #Assign 10 to x\n",
    "y = 3    #Assign 3 to y\n",
    "\n",
    "print(x==y)  #Display if x is equal to y\n",
    "print(x!=y)  #Display if x is not equal to y\n",
    "print(x>y)   #Display if x is greater than y\n",
    "print(x<y)   #Display if x is less than y\n",
    "print(x>=y)  #Display if x is greater than or equal to y\n",
    "print(x<=y)  #Display if x is less than or equal to y"
   ]
  },
  {
   "cell_type": "code",
   "execution_count": null,
   "id": "6515ed62",
   "metadata": {},
   "outputs": [],
   "source": [
    "pressureGage1 = 176    #Assign 176 to pressureGage1\n",
    "warningLight = 175      #Assign 175 to warningLight\n",
    "\n",
    "print(pressureGage1 == warningLight)   #Display if pressureGage1 is equal to warningLight"
   ]
  },
  {
   "cell_type": "code",
   "execution_count": null,
   "id": "a1c378fc",
   "metadata": {},
   "outputs": [],
   "source": [
    "x = 176   #Assign 176 to x\n",
    "y = 175   #Assign 175 to y\n",
    "\n",
    "print(x != y)  #Display if x is not equal to y"
   ]
  },
  {
   "cell_type": "code",
   "execution_count": null,
   "id": "e4c92280",
   "metadata": {},
   "outputs": [],
   "source": [
    "x = 176   #Assign 176 to x\n",
    "y = 175   #Assign 175 to y\n",
    "\n",
    "print(x > y)  #Display if x is greater than y"
   ]
  },
  {
   "cell_type": "code",
   "execution_count": null,
   "id": "6d1fd1c5",
   "metadata": {},
   "outputs": [],
   "source": [
    "x = 176   #Assign 176 to x\n",
    "y = 175   #Assign 175 to y\n",
    "\n",
    "print(x < y)  #Display if x is less than y"
   ]
  },
  {
   "cell_type": "code",
   "execution_count": null,
   "id": "2bd4f6d4",
   "metadata": {},
   "outputs": [],
   "source": [
    "print(x + y)"
   ]
  },
  {
   "cell_type": "markdown",
   "id": "bf9745c7",
   "metadata": {},
   "source": [
    "# Logical Operators"
   ]
  },
  {
   "cell_type": "code",
   "execution_count": null,
   "id": "b3b2d8d1",
   "metadata": {},
   "outputs": [],
   "source": [
    "x = 10    #Assign 10 to x\n",
    "\n",
    "print(x>2 and x<10)    #Display if x is greater than 2 and less than 10"
   ]
  },
  {
   "cell_type": "code",
   "execution_count": null,
   "id": "b48ccc23",
   "metadata": {},
   "outputs": [],
   "source": [
    "x = 10    #Assign 10 to x\n",
    "\n",
    "print(x>2 or x<10)     #Display if x is greater than 2 or less than 10"
   ]
  },
  {
   "cell_type": "code",
   "execution_count": null,
   "id": "c02a8597",
   "metadata": {},
   "outputs": [],
   "source": [
    "x = 10    #Assign 10 to x\n",
    "\n",
    "print(not(x>2 and x<11))   #Display the negation of if x is greater than 2 and less than 11"
   ]
  },
  {
   "cell_type": "markdown",
   "id": "8518e4be",
   "metadata": {},
   "source": [
    "# Identity operators"
   ]
  },
  {
   "cell_type": "code",
   "execution_count": null,
   "id": "aa97ccd2",
   "metadata": {},
   "outputs": [],
   "source": [
    "x = ['truck', 'car', 'suv', 11]    #Assign a list to x\n",
    "\n",
    "print(x[0])  #Display the first element in the list\n",
    "print(x[1])  #Display the second element in the list\n",
    "print(x[2])  #Display the third element in the list\n",
    "print(x[3])  #Display the fourth element in the list\n",
    "\n",
    "print('car' in x)   #Display if 'car' is in the list x"
   ]
  },
  {
   "cell_type": "code",
   "execution_count": null,
   "id": "24703c01",
   "metadata": {},
   "outputs": [],
   "source": [
    "x = ['truck', 'car', 'suv', 11]    #Assign a list to x\n",
    "\n",
    "print('van' not in x)   #Display if 'van' is not in the list x"
   ]
  },
  {
   "cell_type": "markdown",
   "id": "baaff1b9",
   "metadata": {},
   "source": [
    "# Numerics"
   ]
  },
  {
   "cell_type": "code",
   "execution_count": null,
   "id": "8b19cb62",
   "metadata": {},
   "outputs": [],
   "source": [
    "x = 5\n",
    "print(type(x))  #Display the type of x"
   ]
  },
  {
   "cell_type": "code",
   "execution_count": null,
   "id": "98757e3e",
   "metadata": {},
   "outputs": [],
   "source": [
    "x = 5.5\n",
    "print(type(x))  #Display the type of x"
   ]
  },
  {
   "cell_type": "code",
   "execution_count": null,
   "id": "28e47e53",
   "metadata": {},
   "outputs": [],
   "source": [
    "x = 5*1j\n",
    "print(x)  #Display x with the j variable"
   ]
  },
  {
   "cell_type": "markdown",
   "id": "f2087327",
   "metadata": {},
   "source": [
    "# String"
   ]
  },
  {
   "cell_type": "code",
   "execution_count": null,
   "id": "b884421a",
   "metadata": {},
   "outputs": [],
   "source": [
    "x = 'Hello, World!'\n",
    "print(type(x))  #Display the type of x\n",
    "print(x)  #Display x"
   ]
  },
  {
   "cell_type": "code",
   "execution_count": null,
   "id": "10f19c67",
   "metadata": {},
   "outputs": [],
   "source": [
    "x = '''\n",
    "this is my first line\n",
    "second line\n",
    "third line'''    #This is a multi-line string\n",
    "\n",
    "print(x)    #Display x"
   ]
  },
  {
   "cell_type": "code",
   "execution_count": null,
   "id": "146e8d04",
   "metadata": {},
   "outputs": [],
   "source": [
    "x = 'Hello, World!'    #Assigning a string to x\n",
    "\n",
    "print(x[4])  #Display the character at index 4"
   ]
  },
  {
   "cell_type": "code",
   "execution_count": null,
   "id": "e55c1f4a",
   "metadata": {},
   "outputs": [],
   "source": [
    "x = 'Hello'   #Assigning a string to x\n",
    "y = 'Bob'     #Assigning a string to y\n",
    "z = 5        #Assigning an integer to z\n",
    "\n",
    "print(x + ' ' + y)    #Display the concatenation of x and y\n",
    "print(x+z)  #This will cause an error"
   ]
  },
  {
   "cell_type": "code",
   "execution_count": null,
   "id": "a91601ab",
   "metadata": {},
   "outputs": [],
   "source": [
    "x = \"HELLO BOB\"    #Assigning a string to x\n",
    "y = \"hello bob\"    #Assigning a string to y\n",
    "\n",
    "print(x == y)    #Comparing x and y\n",
    "\n",
    "print(x.lower())  #Convert x to lowercase and display it\n",
    "print(y.upper())  #Convert y to uppercase and display it"
   ]
  },
  {
   "cell_type": "markdown",
   "id": "b551ea2b",
   "metadata": {},
   "source": [
    "# Boolean\n",
    "\n",
    "Results in True or False"
   ]
  },
  {
   "cell_type": "markdown",
   "id": "fcc1d296",
   "metadata": {},
   "source": [
    "# Comments"
   ]
  },
  {
   "cell_type": "code",
   "execution_count": null,
   "id": "bea8af11",
   "metadata": {},
   "outputs": [],
   "source": [
    "# This is a comment\n",
    "\n",
    "'''This is a multi-line comment\n",
    "line 2\n",
    "line 3'''"
   ]
  }
 ],
 "metadata": {
  "kernelspec": {
   "display_name": "Python 3",
   "language": "python",
   "name": "python3"
  },
  "language_info": {
   "name": "python",
   "version": "3.13.7"
  }
 },
 "nbformat": 4,
 "nbformat_minor": 5
}

{
 "cells": [
  {
   "cell_type": "markdown",
   "id": "6dd1d57b",
   "metadata": {},
   "source": [
    "# Heading\n",
    "\n",
    "## Heading 2\n",
    "\n",
    "### 3\n",
    "\n",
    "#### 4\n",
    "\n",
    "text **bold** *italics*\n",
    "\n",
    "# **bold heading**"
   ]
  },
  {
   "cell_type": "code",
   "execution_count": null,
   "id": "cae7a145",
   "metadata": {},
   "outputs": [],
   "source": [
    "print('this is an example')"
   ]
  },
  {
   "cell_type": "markdown",
   "id": "7fe0a210",
   "metadata": {},
   "source": [
    "# Variable examples"
   ]
  },
  {
   "cell_type": "code",
   "execution_count": null,
   "id": "460bda54",
   "metadata": {},
   "outputs": [],
   "source": [
    "a = 2   #this is var a\n",
    "b = 3   #this is var b\n",
    "print(a+b)  #display sum of a & b doing math in the print method\n",
    "c = a + b   #this is var c using vars a & b\n",
    "print(c)    #display var c"
   ]
  },
  {
   "cell_type": "markdown",
   "id": "fcf5fa15",
   "metadata": {},
   "source": [
    "# Assignment Operators"
   ]
  },
  {
   "cell_type": "code",
   "execution_count": null,
   "id": "4f1b8c82",
   "metadata": {},
   "outputs": [],
   "source": [
    "name = 'Bob'    #Assign Bob to name\n",
    "last_name = 'Smith'    #Assign Smith to last_name\n",
    "full_name = name + ' ' + last_name #Concatenate name and last_name\n",
    "print(full_name)    #Display full name"
   ]
  },
  {
   "cell_type": "code",
   "execution_count": null,
   "id": "1201a5d6",
   "metadata": {},
   "outputs": [],
   "source": [
    "x = 5    #Assign 5 to x\n",
    "x += 3   #Add 3 to x\n",
    "print(x) #Display x"
   ]
  },
  {
   "cell_type": "code",
   "execution_count": null,
   "id": "732cf867",
   "metadata": {},
   "outputs": [],
   "source": [
    "x = 5   #Assign 5 to x\n",
    "x -= 3  #Subtract 3 from x\n",
    "print(x) #Display x"
   ]
  },
  {
   "cell_type": "code",
   "execution_count": null,
   "id": "c7ebe58a",
   "metadata": {},
   "outputs": [],
   "source": [
    "x = 5   #Assign 5 to x\n",
    "x *= 3  #Multiply x by 3\n",
    "print(x) #Display x"
   ]
  },
  {
   "cell_type": "code",
   "execution_count": null,
   "id": "16a4dc2d",
   "metadata": {},
   "outputs": [],
   "source": [
    "x /= 3  #Divide x by 3\n",
    "print(x) #Display x"
   ]
  },
  {
   "cell_type": "code",
   "execution_count": null,
   "id": "d99582ca",
   "metadata": {},
   "outputs": [],
   "source": [
    "x = 10   #Assign 10 to x\n",
    "x %= 3   #Assign the remainder of x divided by 3 to x\n",
    "print(x) #Display x"
   ]
  },
  {
   "cell_type": "code",
   "execution_count": null,
   "id": "18d39602",
   "metadata": {},
   "outputs": [],
   "source": [
    "x = 10   #Assign 10 to x\n",
    "x //= 3  #Floor divide x by 3\n",
    "print(x) #Display x"
   ]
  },
  {
   "cell_type": "code",
   "execution_count": null,
   "id": "e7cbb86d",
   "metadata": {},
   "outputs": [],
   "source": [
    "x = 10   #Assign 10 to x\n",
    "x **= 3  #Raise x to the power of 3\n",
    "print(x) #Display x"
   ]
  },
  {
   "cell_type": "code",
   "execution_count": null,
   "id": "42fbf320",
   "metadata": {},
   "outputs": [],
   "source": [
    "x = 16   #Assign 16 to x\n",
    "y = 3    #Assign 3 to y\n",
    "print(x//y)  #Display the floor division of x by y"
   ]
  },
  {
   "cell_type": "markdown",
   "id": "cf4042ef",
   "metadata": {},
   "source": [
    "# Comparison Operators"
   ]
  },
  {
   "cell_type": "code",
   "execution_count": null,
   "id": "a5888ba5",
   "metadata": {},
   "outputs": [],
   "source": [
    "x = 10   #Assign 10 to x\n",
    "y = 3    #Assign 3 to y\n",
    "\n",
    "print(x==y)  #Display if x is equal to y\n",
    "print(x!=y)  #Display if x is not equal to y\n",
    "print(x>y)   #Display if x is greater than y\n",
    "print(x<y)   #Display if x is less than y\n",
    "print(x>=y)  #Display if x is greater than or equal to y\n",
    "print(x<=y)  #Display if x is less than or equal to y"
   ]
  },
  {
   "cell_type": "code",
   "execution_count": null,
   "id": "6515ed62",
   "metadata": {},
   "outputs": [],
   "source": [
    "pressureGage1 = 176    #Assign 176 to pressureGage1\n",
    "warningLight = 175      #Assign 175 to warningLight\n",
    "\n",
    "print(pressureGage1 == warningLight)   #Display if pressureGage1 is equal to warningLight"
   ]
  },
  {
   "cell_type": "code",
   "execution_count": null,
   "id": "a1c378fc",
   "metadata": {},
   "outputs": [],
   "source": [
    "x = 176   #Assign 176 to x\n",
    "y = 175   #Assign 175 to y\n",
    "\n",
    "print(x != y)  #Display if x is not equal to y"
   ]
  },
  {
   "cell_type": "code",
   "execution_count": null,
   "id": "e4c92280",
   "metadata": {},
   "outputs": [],
   "source": [
    "x = 176   #Assign 176 to x\n",
    "y = 175   #Assign 175 to y\n",
    "\n",
    "print(x > y)  #Display if x is greater than y"
   ]
  },
  {
   "cell_type": "code",
   "execution_count": null,
   "id": "6d1fd1c5",
   "metadata": {},
   "outputs": [],
   "source": [
    "x = 176   #Assign 176 to x\n",
    "y = 175   #Assign 175 to y\n",
    "\n",
    "print(x < y)  #Display if x is less than y"
   ]
  },
  {
   "cell_type": "code",
   "execution_count": null,
   "id": "2bd4f6d4",
   "metadata": {},
   "outputs": [],
   "source": [
    "print(x + y)"
   ]
  }
 ],
 "metadata": {
  "kernelspec": {
   "display_name": "Python 3",
   "language": "python",
   "name": "python3"
  },
  "language_info": {
   "name": "python",
   "version": "3.13.7"
  }
 },
 "nbformat": 4,
 "nbformat_minor": 5
}

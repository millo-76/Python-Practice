{
 "cells": [
  {
   "cell_type": "markdown",
   "id": "6dd1d57b",
   "metadata": {},
   "source": [
    "# Heading\n",
    "\n",
    "## Heading 2\n",
    "\n",
    "### 3\n",
    "\n",
    "#### 4\n",
    "\n",
    "text **bold** *italics*\n",
    "\n",
    "# **bold heading**\n",
    "\n",
    "## This is where the code examples start"
   ]
  },
  {
   "cell_type": "code",
   "execution_count": 1,
   "id": "cae7a145",
   "metadata": {},
   "outputs": [
    {
     "name": "stdout",
     "output_type": "stream",
     "text": [
      "this is an example\n"
     ]
    }
   ],
   "source": [
    "print('this is an example')"
   ]
  },
  {
   "cell_type": "markdown",
   "id": "7fe0a210",
   "metadata": {},
   "source": [
    "# Variable examples"
   ]
  },
  {
   "cell_type": "code",
   "execution_count": 2,
   "id": "460bda54",
   "metadata": {},
   "outputs": [
    {
     "name": "stdout",
     "output_type": "stream",
     "text": [
      "5\n",
      "5\n"
     ]
    }
   ],
   "source": [
    "a = 2   #this is var a\n",
    "b = 3   #this is var b\n",
    "print(a+b)  #display sum of a & b doing math in the print method\n",
    "c = a + b   #this is var c using vars a & b\n",
    "print(c)    #display var c"
   ]
  },
  {
   "cell_type": "markdown",
   "id": "fcf5fa15",
   "metadata": {},
   "source": [
    "# Assignment Operators"
   ]
  },
  {
   "cell_type": "code",
   "execution_count": 3,
   "id": "4f1b8c82",
   "metadata": {},
   "outputs": [
    {
     "name": "stdout",
     "output_type": "stream",
     "text": [
      "Bob Smith\n"
     ]
    }
   ],
   "source": [
    "name = 'Bob'    #Assign Bob to name\n",
    "last_name = 'Smith'    #Assign Smith to last_name\n",
    "full_name = name + ' ' + last_name #Concatenate name and last_name\n",
    "print(full_name)    #Display full name"
   ]
  },
  {
   "cell_type": "code",
   "execution_count": 4,
   "id": "1201a5d6",
   "metadata": {},
   "outputs": [
    {
     "name": "stdout",
     "output_type": "stream",
     "text": [
      "8\n"
     ]
    }
   ],
   "source": [
    "x = 5    #Assign 5 to x\n",
    "x += 3   #Add 3 to x\n",
    "print(x) #Display x"
   ]
  },
  {
   "cell_type": "code",
   "execution_count": 5,
   "id": "732cf867",
   "metadata": {},
   "outputs": [
    {
     "name": "stdout",
     "output_type": "stream",
     "text": [
      "2\n"
     ]
    }
   ],
   "source": [
    "x = 5   #Assign 5 to x\n",
    "x -= 3  #Subtract 3 from x\n",
    "print(x) #Display x"
   ]
  },
  {
   "cell_type": "code",
   "execution_count": 6,
   "id": "c7ebe58a",
   "metadata": {},
   "outputs": [
    {
     "name": "stdout",
     "output_type": "stream",
     "text": [
      "15\n"
     ]
    }
   ],
   "source": [
    "x = 5   #Assign 5 to x\n",
    "x *= 3  #Multiply x by 3\n",
    "print(x) #Display x"
   ]
  },
  {
   "cell_type": "code",
   "execution_count": 7,
   "id": "16a4dc2d",
   "metadata": {},
   "outputs": [
    {
     "name": "stdout",
     "output_type": "stream",
     "text": [
      "5.0\n"
     ]
    }
   ],
   "source": [
    "x /= 3  #Divide x by 3\n",
    "print(x) #Display x"
   ]
  },
  {
   "cell_type": "code",
   "execution_count": 8,
   "id": "d99582ca",
   "metadata": {},
   "outputs": [
    {
     "name": "stdout",
     "output_type": "stream",
     "text": [
      "1\n"
     ]
    }
   ],
   "source": [
    "x = 10   #Assign 10 to x\n",
    "x %= 3   #Assign the remainder of x divided by 3 to x\n",
    "print(x) #Display x"
   ]
  },
  {
   "cell_type": "code",
   "execution_count": 9,
   "id": "18d39602",
   "metadata": {},
   "outputs": [
    {
     "name": "stdout",
     "output_type": "stream",
     "text": [
      "3\n"
     ]
    }
   ],
   "source": [
    "x = 10   #Assign 10 to x\n",
    "x //= 3  #Floor divide x by 3\n",
    "print(x) #Display x"
   ]
  },
  {
   "cell_type": "code",
   "execution_count": 10,
   "id": "e7cbb86d",
   "metadata": {},
   "outputs": [
    {
     "name": "stdout",
     "output_type": "stream",
     "text": [
      "1000\n"
     ]
    }
   ],
   "source": [
    "x = 10   #Assign 10 to x\n",
    "x **= 3  #Raise x to the power of 3\n",
    "print(x) #Display x"
   ]
  },
  {
   "cell_type": "code",
   "execution_count": 11,
   "id": "42fbf320",
   "metadata": {},
   "outputs": [
    {
     "name": "stdout",
     "output_type": "stream",
     "text": [
      "5\n"
     ]
    }
   ],
   "source": [
    "x = 16   #Assign 16 to x\n",
    "y = 3    #Assign 3 to y\n",
    "print(x//y)  #Display the floor division of x by y"
   ]
  },
  {
   "cell_type": "markdown",
   "id": "cf4042ef",
   "metadata": {},
   "source": [
    "# Comparison Operators"
   ]
  },
  {
   "cell_type": "code",
   "execution_count": 12,
   "id": "a5888ba5",
   "metadata": {},
   "outputs": [
    {
     "name": "stdout",
     "output_type": "stream",
     "text": [
      "False\n",
      "True\n",
      "True\n",
      "False\n",
      "True\n",
      "False\n"
     ]
    }
   ],
   "source": [
    "x = 10   #Assign 10 to x\n",
    "y = 3    #Assign 3 to y\n",
    "\n",
    "print(x==y)  #Display if x is equal to y\n",
    "print(x!=y)  #Display if x is not equal to y\n",
    "print(x>y)   #Display if x is greater than y\n",
    "print(x<y)   #Display if x is less than y\n",
    "print(x>=y)  #Display if x is greater than or equal to y\n",
    "print(x<=y)  #Display if x is less than or equal to y"
   ]
  },
  {
   "cell_type": "code",
   "execution_count": 13,
   "id": "6515ed62",
   "metadata": {},
   "outputs": [
    {
     "name": "stdout",
     "output_type": "stream",
     "text": [
      "False\n"
     ]
    }
   ],
   "source": [
    "pressureGage1 = 176    #Assign 176 to pressureGage1\n",
    "warningLight = 175      #Assign 175 to warningLight\n",
    "\n",
    "print(pressureGage1 == warningLight)   #Display if pressureGage1 is equal to warningLight"
   ]
  },
  {
   "cell_type": "code",
   "execution_count": 14,
   "id": "a1c378fc",
   "metadata": {},
   "outputs": [
    {
     "name": "stdout",
     "output_type": "stream",
     "text": [
      "True\n"
     ]
    }
   ],
   "source": [
    "x = 176   #Assign 176 to x\n",
    "y = 175   #Assign 175 to y\n",
    "\n",
    "print(x != y)  #Display if x is not equal to y"
   ]
  },
  {
   "cell_type": "code",
   "execution_count": 15,
   "id": "e4c92280",
   "metadata": {},
   "outputs": [
    {
     "name": "stdout",
     "output_type": "stream",
     "text": [
      "True\n"
     ]
    }
   ],
   "source": [
    "x = 176   #Assign 176 to x\n",
    "y = 175   #Assign 175 to y\n",
    "\n",
    "print(x > y)  #Display if x is greater than y"
   ]
  },
  {
   "cell_type": "code",
   "execution_count": 16,
   "id": "6d1fd1c5",
   "metadata": {},
   "outputs": [
    {
     "name": "stdout",
     "output_type": "stream",
     "text": [
      "False\n"
     ]
    }
   ],
   "source": [
    "x = 176   #Assign 176 to x\n",
    "y = 175   #Assign 175 to y\n",
    "\n",
    "print(x < y)  #Display if x is less than y"
   ]
  },
  {
   "cell_type": "code",
   "execution_count": 17,
   "id": "2bd4f6d4",
   "metadata": {},
   "outputs": [
    {
     "name": "stdout",
     "output_type": "stream",
     "text": [
      "351\n"
     ]
    }
   ],
   "source": [
    "print(x + y)"
   ]
  },
  {
   "cell_type": "markdown",
   "id": "bf9745c7",
   "metadata": {},
   "source": [
    "# Logical Operators"
   ]
  },
  {
   "cell_type": "code",
   "execution_count": 18,
   "id": "b3b2d8d1",
   "metadata": {},
   "outputs": [
    {
     "name": "stdout",
     "output_type": "stream",
     "text": [
      "False\n"
     ]
    }
   ],
   "source": [
    "x = 10    #Assign 10 to x\n",
    "\n",
    "print(x>2 and x<10)    #Display if x is greater than 2 and less than 10"
   ]
  },
  {
   "cell_type": "code",
   "execution_count": 19,
   "id": "b48ccc23",
   "metadata": {},
   "outputs": [
    {
     "name": "stdout",
     "output_type": "stream",
     "text": [
      "True\n"
     ]
    }
   ],
   "source": [
    "x = 10    #Assign 10 to x\n",
    "\n",
    "print(x>2 or x<10)     #Display if x is greater than 2 or less than 10"
   ]
  },
  {
   "cell_type": "code",
   "execution_count": 20,
   "id": "c02a8597",
   "metadata": {},
   "outputs": [
    {
     "name": "stdout",
     "output_type": "stream",
     "text": [
      "False\n"
     ]
    }
   ],
   "source": [
    "x = 10    #Assign 10 to x\n",
    "\n",
    "print(not(x>2 and x<11))   #Display the negation of if x is greater than 2 and less than 11"
   ]
  },
  {
   "cell_type": "markdown",
   "id": "8518e4be",
   "metadata": {},
   "source": [
    "# Identity operators"
   ]
  },
  {
   "cell_type": "code",
   "execution_count": 21,
   "id": "aa97ccd2",
   "metadata": {},
   "outputs": [
    {
     "name": "stdout",
     "output_type": "stream",
     "text": [
      "truck\n",
      "car\n",
      "suv\n",
      "11\n",
      "True\n"
     ]
    }
   ],
   "source": [
    "x = ['truck', 'car', 'suv', 11]    #Assign a list to x\n",
    "\n",
    "print(x[0])  #Display the first element in the list\n",
    "print(x[1])  #Display the second element in the list\n",
    "print(x[2])  #Display the third element in the list\n",
    "print(x[3])  #Display the fourth element in the list\n",
    "\n",
    "print('car' in x)   #Display if 'car' is in the list x"
   ]
  },
  {
   "cell_type": "code",
   "execution_count": 22,
   "id": "24703c01",
   "metadata": {},
   "outputs": [
    {
     "name": "stdout",
     "output_type": "stream",
     "text": [
      "True\n"
     ]
    }
   ],
   "source": [
    "x = ['truck', 'car', 'suv', 11]    #Assign a list to x\n",
    "\n",
    "print('van' not in x)   #Display if 'van' is not in the list x"
   ]
  },
  {
   "cell_type": "markdown",
   "id": "baaff1b9",
   "metadata": {},
   "source": [
    "# Numerics"
   ]
  },
  {
   "cell_type": "code",
   "execution_count": 23,
   "id": "8b19cb62",
   "metadata": {},
   "outputs": [
    {
     "name": "stdout",
     "output_type": "stream",
     "text": [
      "<class 'int'>\n"
     ]
    }
   ],
   "source": [
    "x = 5\n",
    "print(type(x))  #Display the type of x"
   ]
  },
  {
   "cell_type": "code",
   "execution_count": 24,
   "id": "98757e3e",
   "metadata": {},
   "outputs": [
    {
     "name": "stdout",
     "output_type": "stream",
     "text": [
      "<class 'float'>\n"
     ]
    }
   ],
   "source": [
    "x = 5.5\n",
    "print(type(x))  #Display the type of x"
   ]
  },
  {
   "cell_type": "code",
   "execution_count": 25,
   "id": "28e47e53",
   "metadata": {},
   "outputs": [
    {
     "name": "stdout",
     "output_type": "stream",
     "text": [
      "5j\n"
     ]
    }
   ],
   "source": [
    "x = 5*1j\n",
    "print(x)  #Display x with the j variable"
   ]
  },
  {
   "cell_type": "markdown",
   "id": "f2087327",
   "metadata": {},
   "source": [
    "# String"
   ]
  },
  {
   "cell_type": "code",
   "execution_count": 26,
   "id": "b884421a",
   "metadata": {},
   "outputs": [
    {
     "name": "stdout",
     "output_type": "stream",
     "text": [
      "<class 'str'>\n",
      "Hello, World!\n"
     ]
    }
   ],
   "source": [
    "x = 'Hello, World!'\n",
    "print(type(x))  #Display the type of x\n",
    "print(x)  #Display x"
   ]
  },
  {
   "cell_type": "code",
   "execution_count": 27,
   "id": "10f19c67",
   "metadata": {},
   "outputs": [
    {
     "name": "stdout",
     "output_type": "stream",
     "text": [
      "\n",
      "this is my first line\n",
      "second line\n",
      "third line\n"
     ]
    }
   ],
   "source": [
    "x = '''\n",
    "this is my first line\n",
    "second line\n",
    "third line'''    #This is a multi-line string\n",
    "\n",
    "print(x)    #Display x"
   ]
  },
  {
   "cell_type": "code",
   "execution_count": 28,
   "id": "146e8d04",
   "metadata": {},
   "outputs": [
    {
     "name": "stdout",
     "output_type": "stream",
     "text": [
      "o\n"
     ]
    }
   ],
   "source": [
    "x = 'Hello, World!'    #Assigning a string to x\n",
    "\n",
    "print(x[4])  #Display the character at index 4"
   ]
  },
  {
   "cell_type": "code",
   "execution_count": 29,
   "id": "e55c1f4a",
   "metadata": {},
   "outputs": [
    {
     "name": "stdout",
     "output_type": "stream",
     "text": [
      "Hello Bob\n"
     ]
    },
    {
     "ename": "TypeError",
     "evalue": "can only concatenate str (not \"int\") to str",
     "output_type": "error",
     "traceback": [
      "\u001b[0;31m---------------------------------------------------------------------------\u001b[0m",
      "\u001b[0;31mTypeError\u001b[0m                                 Traceback (most recent call last)",
      "Cell \u001b[0;32mIn[29], line 6\u001b[0m\n\u001b[1;32m      3\u001b[0m z \u001b[38;5;241m=\u001b[39m \u001b[38;5;241m5\u001b[39m        \u001b[38;5;66;03m#Assigning an integer to z\u001b[39;00m\n\u001b[1;32m      5\u001b[0m \u001b[38;5;28mprint\u001b[39m(x \u001b[38;5;241m+\u001b[39m \u001b[38;5;124m'\u001b[39m\u001b[38;5;124m \u001b[39m\u001b[38;5;124m'\u001b[39m \u001b[38;5;241m+\u001b[39m y)    \u001b[38;5;66;03m#Display the concatenation of x and y\u001b[39;00m\n\u001b[0;32m----> 6\u001b[0m \u001b[38;5;28mprint\u001b[39m(\u001b[43mx\u001b[49m\u001b[38;5;241;43m+\u001b[39;49m\u001b[43mz\u001b[49m)  \u001b[38;5;66;03m#This will cause an error\u001b[39;00m\n",
      "\u001b[0;31mTypeError\u001b[0m: can only concatenate str (not \"int\") to str"
     ]
    }
   ],
   "source": [
    "x = 'Hello'   #Assigning a string to x\n",
    "y = 'Bob'     #Assigning a string to y\n",
    "z = 5        #Assigning an integer to z\n",
    "\n",
    "print(x + ' ' + y)    #Display the concatenation of x and y\n",
    "print(x+z)  #This will cause an error"
   ]
  },
  {
   "cell_type": "code",
   "execution_count": 30,
   "id": "a91601ab",
   "metadata": {},
   "outputs": [
    {
     "name": "stdout",
     "output_type": "stream",
     "text": [
      "False\n",
      "hello bob\n",
      "HELLO BOB\n"
     ]
    }
   ],
   "source": [
    "x = \"HELLO BOB\"    #Assigning a string to x\n",
    "y = \"hello bob\"    #Assigning a string to y\n",
    "\n",
    "print(x == y)    #Comparing x and y\n",
    "\n",
    "print(x.lower())  #Convert x to lowercase and display it\n",
    "print(y.upper())  #Convert y to uppercase and display it"
   ]
  },
  {
   "cell_type": "markdown",
   "id": "b551ea2b",
   "metadata": {},
   "source": [
    "# Boolean\n",
    "\n",
    "Results in True or False"
   ]
  },
  {
   "cell_type": "markdown",
   "id": "fcc1d296",
   "metadata": {},
   "source": [
    "# Comments"
   ]
  },
  {
   "cell_type": "code",
   "execution_count": 1,
   "id": "bea8af11",
   "metadata": {},
   "outputs": [
    {
     "data": {
      "text/plain": [
       "'\\nThis is a multi-line comment\\nline 2\\nline 3\\n'"
      ]
     },
     "execution_count": 1,
     "metadata": {},
     "output_type": "execute_result"
    }
   ],
   "source": [
    "# This is a comment\n",
    "\n",
    "'''\n",
    "This is a multi-line comment\n",
    "line 2\n",
    "line 3\n",
    "'''"
   ]
  },
  {
   "cell_type": "markdown",
   "id": "918257e9",
   "metadata": {},
   "source": [
    "# Indentation"
   ]
  },
  {
   "cell_type": "code",
   "execution_count": 32,
   "id": "830b68d3",
   "metadata": {},
   "outputs": [
    {
     "name": "stdout",
     "output_type": "stream",
     "text": [
      "x is greater than y\n"
     ]
    }
   ],
   "source": [
    "x = 10\n",
    "y = 5\n",
    "\n",
    "if x > y:\n",
    "    print(\"x is greater than y\")    # This line is indented\n",
    "else:\n",
    "    print(\"y is greater than x\")    # This line is also indented"
   ]
  }
 ],
 "metadata": {
  "kernelspec": {
   "display_name": "Python 3",
   "language": "python",
   "name": "python3"
  },
  "language_info": {
   "codemirror_mode": {
    "name": "ipython",
    "version": 3
   },
   "file_extension": ".py",
   "mimetype": "text/x-python",
   "name": "python",
   "nbconvert_exporter": "python",
   "pygments_lexer": "ipython3",
   "version": "3.12.3"
  }
 },
 "nbformat": 4,
 "nbformat_minor": 5
}

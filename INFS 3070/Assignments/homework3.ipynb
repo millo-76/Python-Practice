{
 "cells": [
  {
   "cell_type": "markdown",
   "id": "031d0201",
   "metadata": {},
   "source": [
    "# Homework 3"
   ]
  },
  {
   "cell_type": "markdown",
   "id": "8de9b552",
   "metadata": {},
   "source": [
    "## IMDB Data Set\n",
    "\n",
    "    You are to analyze the data however appropriate to provide answers to two questions:\n",
    "    1. What is the name of the Director with the highest rating and the most votes?\n",
    "    2. What was the highest-rated film for the year 2000 by votes and rating?"
   ]
  },
  {
   "cell_type": "code",
   "execution_count": 1,
   "id": "a950974d",
   "metadata": {},
   "outputs": [],
   "source": [
    "import pandas as pd\n",
    "\n",
    "# get the data loaded into dataframes\n",
    "dftitles = pd.read_csv('http://128.198.162.191/dataFiles/IMDB/titleBasics.tsv', sep='\\t', low_memory=False, usecols=['titleType', 'tconst', 'primaryTitle', 'startYear'])\n",
    "dfratings = pd.read_csv('http://128.198.162.191/dataFiles/IMDB/ratings.tsv', sep='\\t', low_memory=False)\n",
    "dfnames = pd.read_csv('http://128.198.162.191/dataFiles/IMDB/nameBasics.tsv', sep='\\t', low_memory=False)\n",
    "dfcrew = pd.read_csv('http://128.198.162.191/dataFiles/IMDB/crew.tsv', sep='\\t', low_memory=False)"
   ]
  },
  {
   "cell_type": "markdown",
   "id": "5953e10c",
   "metadata": {},
   "source": [
    "### Question 1"
   ]
  },
  {
   "cell_type": "code",
   "execution_count": 14,
   "id": "a5d5c93f",
   "metadata": {},
   "outputs": [],
   "source": [
    "merge1 = pd.merge(dfratings, dfcrew, on='tconst')   # merge ratings and crew on tconst\n",
    "merge1 = merge1.merge(dftitles, on='tconst')        # merge the above with titles on tconst\n",
    "\n",
    "merge1 = merge1.assign(directors=merge1['directors'].str.split(',')).explode('directors')                           # split multiple directors into separate rows\n",
    "merge1 = merge1.merge(dfnames[['nconst', 'primaryName']], left_on='directors', right_on='nconst', how='left')       # merge to get director names\n",
    "\n",
    "top_director = merge1.sort_values(['averageRating', 'numVotes'], ascending=False).head(1)                           # sort by rating and votes to get top director\n",
    "top_director = top_director[['primaryName', 'averageRating', 'numVotes']]   # select relevant columns\n",
    "\n",
    "top_director.to_csv('question1.csv', index=False)   # save to csv"
   ]
  },
  {
   "cell_type": "markdown",
   "id": "7fd6ad30",
   "metadata": {},
   "source": [
    "### Question 2"
   ]
  },
  {
   "cell_type": "code",
   "execution_count": 15,
   "id": "5b062361",
   "metadata": {},
   "outputs": [],
   "source": [
    "merge2 = pd.merge(dftitles, dfratings, on='tconst')    # merge titles and ratings on tconst\n",
    "merge2 = merge2[merge2['startYear'] == '2000']         # filter for the year 2000\n",
    "\n",
    "top2000movie = merge2.sort_values(['numVotes', 'averageRating'], ascending=False).head(1)   # sort by votes and rating to get top movie\n",
    "top2000movie = top2000movie[['startYear', 'primaryTitle', 'numVotes', 'averageRating']]     # select relevant columns\n",
    "\n",
    "top2000movie.to_csv('question2.csv', index=False)       # save to csv"
   ]
  }
 ],
 "metadata": {
  "kernelspec": {
   "display_name": "Python 3",
   "language": "python",
   "name": "python3"
  },
  "language_info": {
   "codemirror_mode": {
    "name": "ipython",
    "version": 3
   },
   "file_extension": ".py",
   "mimetype": "text/x-python",
   "name": "python",
   "nbconvert_exporter": "python",
   "pygments_lexer": "ipython3",
   "version": "3.13.7"
  }
 },
 "nbformat": 4,
 "nbformat_minor": 5
}

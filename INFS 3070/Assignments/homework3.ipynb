{
 "cells": [
  {
   "cell_type": "markdown",
   "id": "031d0201",
   "metadata": {},
   "source": [
    "# Homework 3\n",
    "\n",
    "## IMDB Data Set\n",
    "\n",
    "    You are to analyze the data however appropriate to provide answers to two questions:\n",
    "    1. What is the name of the Director with the highest rating and the most votes?\n",
    "    2. What was the highest-rated film for the year 2000 by votes and rating?\n"
   ]
  },
  {
   "cell_type": "code",
   "execution_count": 2,
   "id": "a950974d",
   "metadata": {},
   "outputs": [],
   "source": [
    "import pandas as pd\n",
    "\n",
    "dftitles = pd.read_csv('http://128.198.162.191/dataFiles/IMDB/titleBasics.tsv', sep='\\t', low_memory=False, usecols=['titleType', 'tconst', 'primaryTitle', 'startYear'])\n",
    "dfratings = pd.read_csv('http://128.198.162.191/dataFiles/IMDB/ratings.tsv', sep='\\t', low_memory=False)\n",
    "dfnames = pd.read_csv('http://128.198.162.191/dataFiles/IMDB/nameBasics.tsv', sep='\\t', low_memory=False)\n",
    "dfcrew = pd.read_csv('http://128.198.162.191/dataFiles/IMDB/crew.tsv', sep='\\t', low_memory=False)"
   ]
  }
 ],
 "metadata": {
  "kernelspec": {
   "display_name": "Python 3",
   "language": "python",
   "name": "python3"
  },
  "language_info": {
   "codemirror_mode": {
    "name": "ipython",
    "version": 3
   },
   "file_extension": ".py",
   "mimetype": "text/x-python",
   "name": "python",
   "nbconvert_exporter": "python",
   "pygments_lexer": "ipython3",
   "version": "3.12.3"
  }
 },
 "nbformat": 4,
 "nbformat_minor": 5
}

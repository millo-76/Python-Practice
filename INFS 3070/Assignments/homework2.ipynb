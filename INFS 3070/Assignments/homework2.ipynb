{
 "cells": [
  {
   "cell_type": "markdown",
   "id": "88cf0630",
   "metadata": {},
   "source": [
    "# Homework 2\n",
    "\n",
    "## Product Record\n",
    "\n",
    "    Create a program that creates two lists and zips them into a dictonary to be displayed."
   ]
  },
  {
   "cell_type": "code",
   "execution_count": 13,
   "id": "64ae582e",
   "metadata": {},
   "outputs": [
    {
     "name": "stdout",
     "output_type": "stream",
     "text": [
      "Hammers: 11.5\n",
      "Shovels: 25.0\n",
      "Picks: 13.45\n",
      "Buckets: 2.95\n",
      "Rope: 9.99\n"
     ]
    }
   ],
   "source": [
    "products = ['Hammers', 'Shovels', 'Picks', 'Buckets', 'Rope']       # list of products\n",
    "prices = [11.50, 25.00, 13.45, 2.95, 9.99]                          # list of prices\n",
    "\n",
    "product_prices = dict(zip(products, prices))                        # dictionary creation using zip\n",
    "\n",
    "for key, value in product_prices.items():                           # iterate through product_prices dictionary\n",
    "    print(f\"{key}: {value}\")                                        # print each item"
   ]
  }
 ],
 "metadata": {
  "kernelspec": {
   "display_name": "Python 3",
   "language": "python",
   "name": "python3"
  },
  "language_info": {
   "codemirror_mode": {
    "name": "ipython",
    "version": 3
   },
   "file_extension": ".py",
   "mimetype": "text/x-python",
   "name": "python",
   "nbconvert_exporter": "python",
   "pygments_lexer": "ipython3",
   "version": "3.13.7"
  }
 },
 "nbformat": 4,
 "nbformat_minor": 5
}

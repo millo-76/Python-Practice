{
 "cells": [
  {
   "cell_type": "code",
   "execution_count": null,
   "id": "5569f786",
   "metadata": {},
   "outputs": [
    {
     "ename": "ValueError",
     "evalue": "invalid literal for int() with base 10: 'l'",
     "output_type": "error",
     "traceback": [
      "\u001b[31m---------------------------------------------------------------------------\u001b[39m",
      "\u001b[31mValueError\u001b[39m                                Traceback (most recent call last)",
      "\u001b[36mCell\u001b[39m\u001b[36m \u001b[39m\u001b[32mIn[4]\u001b[39m\u001b[32m, line 1\u001b[39m\n\u001b[32m----> \u001b[39m\u001b[32m1\u001b[39m currentTemp = \u001b[38;5;28;43mint\u001b[39;49m\u001b[43m(\u001b[49m\u001b[38;5;28;43minput\u001b[39;49m\u001b[43m(\u001b[49m\u001b[33;43m\"\u001b[39;49m\u001b[33;43mWhat is the current temperature in Fahrenheit?: \u001b[39;49m\u001b[33;43m\"\u001b[39;49m\u001b[43m)\u001b[49m\u001b[43m)\u001b[49m    \u001b[38;5;66;03m# get user input and cast to int\u001b[39;00m\n\u001b[32m      3\u001b[39m \u001b[38;5;28;01mif\u001b[39;00m currentTemp > \u001b[32m85\u001b[39m:   \u001b[38;5;66;03m# check if temp is greater than 85\u001b[39;00m\n\u001b[32m      4\u001b[39m     \u001b[38;5;28mprint\u001b[39m(\u001b[33m\"\u001b[39m\u001b[33mIt\u001b[39m\u001b[33m'\u001b[39m\u001b[33ms hot outside.\u001b[39m\u001b[33m\"\u001b[39m)   \u001b[38;5;66;03m# if the if statement is true\u001b[39;00m\n",
      "\u001b[31mValueError\u001b[39m: invalid literal for int() with base 10: 'l'"
     ]
    }
   ],
   "source": [
    "currentTemp = int(input(\"What is the current temperature in Fahrenheit?: \"))    # get user input and cast to int\n",
    "\n",
    "if currentTemp > 85:   # check if temp is greater than 85\n",
    "    print(\"It's hot outside.\")   # if the if statement is true\n",
    "elif currentTemp >= 65 and currentTemp <= 85:   # check if temp is between 65 and 85\n",
    "    print(\"It's warm outside.\")   # if the first elif statement is true\n",
    "elif currentTemp < 65:   # check if temp is less than 65\n",
    "    print(\"It's cold outside.\")   # if the second elif statement is true\n",
    "else:\n",
    "    print(\"Invalid input. Please enter a valid temperature.\")   # if none of the above are true"
   ]
  }
 ],
 "metadata": {
  "kernelspec": {
   "display_name": "Python 3",
   "language": "python",
   "name": "python3"
  },
  "language_info": {
   "codemirror_mode": {
    "name": "ipython",
    "version": 3
   },
   "file_extension": ".py",
   "mimetype": "text/x-python",
   "name": "python",
   "nbconvert_exporter": "python",
   "pygments_lexer": "ipython3",
   "version": "3.13.7"
  }
 },
 "nbformat": 4,
 "nbformat_minor": 5
}

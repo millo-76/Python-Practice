{
 "cells": [
  {
   "cell_type": "markdown",
   "id": "d11dd452",
   "metadata": {},
   "source": [
    "# Homework 1\n",
    "\n",
    "## Weather Forecast\n",
    "\n",
    "    Create a program that allows the user to enter their current temperature in Fahrenheit and find out whether it is warm, hot, or cold."
   ]
  },
  {
   "cell_type": "code",
   "execution_count": null,
   "id": "d5f27f3d",
   "metadata": {},
   "outputs": [
    {
     "name": "stdout",
     "output_type": "stream",
     "text": [
      "It's hot outside.\n"
     ]
    }
   ],
   "source": [
    "currentTemp = int(input(\"What is the current temperature in Fahrenheit?: \"))    # get user input and cast to int\n",
    "\n",
    "print(\"The current temperature is \" + str(currentTemp) + \" degrees Fahrenheit.\")   # print the current temperature\n",
    "\n",
    "if currentTemp > 85:   # check if temp is greater than 85\n",
    "    print(\"It is hot outside.\")   # if the if statement is true\n",
    "elif currentTemp >= 65 and currentTemp <= 85:   # check if temp is between 65 and 85\n",
    "    print(\"It is warm outside.\")   # if the first elif statement is true\n",
    "else:  # if none of the above are true\n",
    "    print(\"It is cold outside.\")   # if the else statement is true"
   ]
  }
 ],
 "metadata": {
  "kernelspec": {
   "display_name": "Python 3",
   "language": "python",
   "name": "python3"
  },
  "language_info": {
   "codemirror_mode": {
    "name": "ipython",
    "version": 3
   },
   "file_extension": ".py",
   "mimetype": "text/x-python",
   "name": "python",
   "nbconvert_exporter": "python",
   "pygments_lexer": "ipython3",
   "version": "3.12.3"
  }
 },
 "nbformat": 4,
 "nbformat_minor": 5
}
